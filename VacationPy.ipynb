{
 "cells": [
  {
   "cell_type": "markdown",
   "metadata": {},
   "source": [
    "# VacationPy\n",
    "---\n",
    "\n",
    "## Starter Code to Import Libraries and Load the Weather and Coordinates Data"
   ]
  },
  {
   "cell_type": "code",
   "execution_count": 1,
   "metadata": {},
   "outputs": [
    {
     "data": {
      "application/javascript": "(function(root) {\n  function now() {\n    return new Date();\n  }\n\n  var force = true;\n  var py_version = '3.4.1'.replace('rc', '-rc.').replace('.dev', '-dev.');\n  var reloading = false;\n  var Bokeh = root.Bokeh;\n\n  if (typeof (root._bokeh_timeout) === \"undefined\" || force) {\n    root._bokeh_timeout = Date.now() + 5000;\n    root._bokeh_failed_load = false;\n  }\n\n  function run_callbacks() {\n    try {\n      root._bokeh_onload_callbacks.forEach(function(callback) {\n        if (callback != null)\n          callback();\n      });\n    } finally {\n      delete root._bokeh_onload_callbacks;\n    }\n    console.debug(\"Bokeh: all callbacks have finished\");\n  }\n\n  function load_libs(css_urls, js_urls, js_modules, js_exports, callback) {\n    if (css_urls == null) css_urls = [];\n    if (js_urls == null) js_urls = [];\n    if (js_modules == null) js_modules = [];\n    if (js_exports == null) js_exports = {};\n\n    root._bokeh_onload_callbacks.push(callback);\n\n    if (root._bokeh_is_loading > 0) {\n      console.debug(\"Bokeh: BokehJS is being loaded, scheduling callback at\", now());\n      return null;\n    }\n    if (js_urls.length === 0 && js_modules.length === 0 && Object.keys(js_exports).length === 0) {\n      run_callbacks();\n      return null;\n    }\n    if (!reloading) {\n      console.debug(\"Bokeh: BokehJS not loaded, scheduling load and callback at\", now());\n    }\n\n    function on_load() {\n      root._bokeh_is_loading--;\n      if (root._bokeh_is_loading === 0) {\n        console.debug(\"Bokeh: all BokehJS libraries/stylesheets loaded\");\n        run_callbacks()\n      }\n    }\n    window._bokeh_on_load = on_load\n\n    function on_error() {\n      console.error(\"failed to load \" + url);\n    }\n\n    var skip = [];\n    if (window.requirejs) {\n      window.requirejs.config({'packages': {}, 'paths': {}, 'shim': {}});\n      root._bokeh_is_loading = css_urls.length + 0;\n    } else {\n      root._bokeh_is_loading = css_urls.length + js_urls.length + js_modules.length + Object.keys(js_exports).length;\n    }\n\n    var existing_stylesheets = []\n    var links = document.getElementsByTagName('link')\n    for (var i = 0; i < links.length; i++) {\n      var link = links[i]\n      if (link.href != null) {\n\texisting_stylesheets.push(link.href)\n      }\n    }\n    for (var i = 0; i < css_urls.length; i++) {\n      var url = css_urls[i];\n      if (existing_stylesheets.indexOf(url) !== -1) {\n\ton_load()\n\tcontinue;\n      }\n      const element = document.createElement(\"link\");\n      element.onload = on_load;\n      element.onerror = on_error;\n      element.rel = \"stylesheet\";\n      element.type = \"text/css\";\n      element.href = url;\n      console.debug(\"Bokeh: injecting link tag for BokehJS stylesheet: \", url);\n      document.body.appendChild(element);\n    }    var existing_scripts = []\n    var scripts = document.getElementsByTagName('script')\n    for (var i = 0; i < scripts.length; i++) {\n      var script = scripts[i]\n      if (script.src != null) {\n\texisting_scripts.push(script.src)\n      }\n    }\n    for (var i = 0; i < js_urls.length; i++) {\n      var url = js_urls[i];\n      if (skip.indexOf(url) !== -1 || existing_scripts.indexOf(url) !== -1) {\n\tif (!window.requirejs) {\n\t  on_load();\n\t}\n\tcontinue;\n      }\n      var element = document.createElement('script');\n      element.onload = on_load;\n      element.onerror = on_error;\n      element.async = false;\n      element.src = url;\n      console.debug(\"Bokeh: injecting script tag for BokehJS library: \", url);\n      document.head.appendChild(element);\n    }\n    for (var i = 0; i < js_modules.length; i++) {\n      var url = js_modules[i];\n      if (skip.indexOf(url) !== -1 || existing_scripts.indexOf(url) !== -1) {\n\tif (!window.requirejs) {\n\t  on_load();\n\t}\n\tcontinue;\n      }\n      var element = document.createElement('script');\n      element.onload = on_load;\n      element.onerror = on_error;\n      element.async = false;\n      element.src = url;\n      element.type = \"module\";\n      console.debug(\"Bokeh: injecting script tag for BokehJS library: \", url);\n      document.head.appendChild(element);\n    }\n    for (const name in js_exports) {\n      var url = js_exports[name];\n      if (skip.indexOf(url) >= 0 || root[name] != null) {\n\tif (!window.requirejs) {\n\t  on_load();\n\t}\n\tcontinue;\n      }\n      var element = document.createElement('script');\n      element.onerror = on_error;\n      element.async = false;\n      element.type = \"module\";\n      console.debug(\"Bokeh: injecting script tag for BokehJS library: \", url);\n      element.textContent = `\n      import ${name} from \"${url}\"\n      window.${name} = ${name}\n      window._bokeh_on_load()\n      `\n      document.head.appendChild(element);\n    }\n    if (!js_urls.length && !js_modules.length) {\n      on_load()\n    }\n  };\n\n  function inject_raw_css(css) {\n    const element = document.createElement(\"style\");\n    element.appendChild(document.createTextNode(css));\n    document.body.appendChild(element);\n  }\n\n  var js_urls = [\"https://cdn.bokeh.org/bokeh/release/bokeh-3.4.1.min.js\", \"https://cdn.bokeh.org/bokeh/release/bokeh-gl-3.4.1.min.js\", \"https://cdn.bokeh.org/bokeh/release/bokeh-widgets-3.4.1.min.js\", \"https://cdn.bokeh.org/bokeh/release/bokeh-tables-3.4.1.min.js\", \"https://cdn.holoviz.org/panel/1.4.2/dist/panel.min.js\"];\n  var js_modules = [];\n  var js_exports = {};\n  var css_urls = [];\n  var inline_js = [    function(Bokeh) {\n      Bokeh.set_log_level(\"info\");\n    },\nfunction(Bokeh) {} // ensure no trailing comma for IE\n  ];\n\n  function run_inline_js() {\n    if ((root.Bokeh !== undefined) || (force === true)) {\n      for (var i = 0; i < inline_js.length; i++) {\n\ttry {\n          inline_js[i].call(root, root.Bokeh);\n\t} catch(e) {\n\t  if (!reloading) {\n\t    throw e;\n\t  }\n\t}\n      }\n      // Cache old bokeh versions\n      if (Bokeh != undefined && !reloading) {\n\tvar NewBokeh = root.Bokeh;\n\tif (Bokeh.versions === undefined) {\n\t  Bokeh.versions = new Map();\n\t}\n\tif (NewBokeh.version !== Bokeh.version) {\n\t  Bokeh.versions.set(NewBokeh.version, NewBokeh)\n\t}\n\troot.Bokeh = Bokeh;\n      }} else if (Date.now() < root._bokeh_timeout) {\n      setTimeout(run_inline_js, 100);\n    } else if (!root._bokeh_failed_load) {\n      console.log(\"Bokeh: BokehJS failed to load within specified timeout.\");\n      root._bokeh_failed_load = true;\n    }\n    root._bokeh_is_initializing = false\n  }\n\n  function load_or_wait() {\n    // Implement a backoff loop that tries to ensure we do not load multiple\n    // versions of Bokeh and its dependencies at the same time.\n    // In recent versions we use the root._bokeh_is_initializing flag\n    // to determine whether there is an ongoing attempt to initialize\n    // bokeh, however for backward compatibility we also try to ensure\n    // that we do not start loading a newer (Panel>=1.0 and Bokeh>3) version\n    // before older versions are fully initialized.\n    if (root._bokeh_is_initializing && Date.now() > root._bokeh_timeout) {\n      root._bokeh_is_initializing = false;\n      root._bokeh_onload_callbacks = undefined;\n      console.log(\"Bokeh: BokehJS was loaded multiple times but one version failed to initialize.\");\n      load_or_wait();\n    } else if (root._bokeh_is_initializing || (typeof root._bokeh_is_initializing === \"undefined\" && root._bokeh_onload_callbacks !== undefined)) {\n      setTimeout(load_or_wait, 100);\n    } else {\n      root._bokeh_is_initializing = true\n      root._bokeh_onload_callbacks = []\n      var bokeh_loaded = Bokeh != null && (Bokeh.version === py_version || (Bokeh.versions !== undefined && Bokeh.versions.has(py_version)));\n      if (!reloading && !bokeh_loaded) {\n\troot.Bokeh = undefined;\n      }\n      load_libs(css_urls, js_urls, js_modules, js_exports, function() {\n\tconsole.debug(\"Bokeh: BokehJS plotting callback run at\", now());\n\trun_inline_js();\n      });\n    }\n  }\n  // Give older versions of the autoload script a head-start to ensure\n  // they initialize before we start loading newer version.\n  setTimeout(load_or_wait, 100)\n}(window));",
      "application/vnd.holoviews_load.v0+json": ""
     },
     "metadata": {},
     "output_type": "display_data"
    },
    {
     "data": {
      "application/javascript": "\nif ((window.PyViz === undefined) || (window.PyViz instanceof HTMLElement)) {\n  window.PyViz = {comms: {}, comm_status:{}, kernels:{}, receivers: {}, plot_index: []}\n}\n\n\n    function JupyterCommManager() {\n    }\n\n    JupyterCommManager.prototype.register_target = function(plot_id, comm_id, msg_handler) {\n      if (window.comm_manager || ((window.Jupyter !== undefined) && (Jupyter.notebook.kernel != null))) {\n        var comm_manager = window.comm_manager || Jupyter.notebook.kernel.comm_manager;\n        comm_manager.register_target(comm_id, function(comm) {\n          comm.on_msg(msg_handler);\n        });\n      } else if ((plot_id in window.PyViz.kernels) && (window.PyViz.kernels[plot_id])) {\n        window.PyViz.kernels[plot_id].registerCommTarget(comm_id, function(comm) {\n          comm.onMsg = msg_handler;\n        });\n      } else if (typeof google != 'undefined' && google.colab.kernel != null) {\n        google.colab.kernel.comms.registerTarget(comm_id, (comm) => {\n          var messages = comm.messages[Symbol.asyncIterator]();\n          function processIteratorResult(result) {\n            var message = result.value;\n            console.log(message)\n            var content = {data: message.data, comm_id};\n            var buffers = []\n            for (var buffer of message.buffers || []) {\n              buffers.push(new DataView(buffer))\n            }\n            var metadata = message.metadata || {};\n            var msg = {content, buffers, metadata}\n            msg_handler(msg);\n            return messages.next().then(processIteratorResult);\n          }\n          return messages.next().then(processIteratorResult);\n        })\n      }\n    }\n\n    JupyterCommManager.prototype.get_client_comm = function(plot_id, comm_id, msg_handler) {\n      if (comm_id in window.PyViz.comms) {\n        return window.PyViz.comms[comm_id];\n      } else if (window.comm_manager || ((window.Jupyter !== undefined) && (Jupyter.notebook.kernel != null))) {\n        var comm_manager = window.comm_manager || Jupyter.notebook.kernel.comm_manager;\n        var comm = comm_manager.new_comm(comm_id, {}, {}, {}, comm_id);\n        if (msg_handler) {\n          comm.on_msg(msg_handler);\n        }\n      } else if ((plot_id in window.PyViz.kernels) && (window.PyViz.kernels[plot_id])) {\n        var comm = window.PyViz.kernels[plot_id].connectToComm(comm_id);\n        comm.open();\n        if (msg_handler) {\n          comm.onMsg = msg_handler;\n        }\n      } else if (typeof google != 'undefined' && google.colab.kernel != null) {\n        var comm_promise = google.colab.kernel.comms.open(comm_id)\n        comm_promise.then((comm) => {\n          window.PyViz.comms[comm_id] = comm;\n          if (msg_handler) {\n            var messages = comm.messages[Symbol.asyncIterator]();\n            function processIteratorResult(result) {\n              var message = result.value;\n              var content = {data: message.data};\n              var metadata = message.metadata || {comm_id};\n              var msg = {content, metadata}\n              msg_handler(msg);\n              return messages.next().then(processIteratorResult);\n            }\n            return messages.next().then(processIteratorResult);\n          }\n        }) \n        var sendClosure = (data, metadata, buffers, disposeOnDone) => {\n          return comm_promise.then((comm) => {\n            comm.send(data, metadata, buffers, disposeOnDone);\n          });\n        };\n        var comm = {\n          send: sendClosure\n        };\n      }\n      window.PyViz.comms[comm_id] = comm;\n      return comm;\n    }\n    window.PyViz.comm_manager = new JupyterCommManager();\n    \n\n\nvar JS_MIME_TYPE = 'application/javascript';\nvar HTML_MIME_TYPE = 'text/html';\nvar EXEC_MIME_TYPE = 'application/vnd.holoviews_exec.v0+json';\nvar CLASS_NAME = 'output';\n\n/**\n * Render data to the DOM node\n */\nfunction render(props, node) {\n  var div = document.createElement(\"div\");\n  var script = document.createElement(\"script\");\n  node.appendChild(div);\n  node.appendChild(script);\n}\n\n/**\n * Handle when a new output is added\n */\nfunction handle_add_output(event, handle) {\n  var output_area = handle.output_area;\n  var output = handle.output;\n  if ((output.data == undefined) || (!output.data.hasOwnProperty(EXEC_MIME_TYPE))) {\n    return\n  }\n  var id = output.metadata[EXEC_MIME_TYPE][\"id\"];\n  var toinsert = output_area.element.find(\".\" + CLASS_NAME.split(' ')[0]);\n  if (id !== undefined) {\n    var nchildren = toinsert.length;\n    var html_node = toinsert[nchildren-1].children[0];\n    html_node.innerHTML = output.data[HTML_MIME_TYPE];\n    var scripts = [];\n    var nodelist = html_node.querySelectorAll(\"script\");\n    for (var i in nodelist) {\n      if (nodelist.hasOwnProperty(i)) {\n        scripts.push(nodelist[i])\n      }\n    }\n\n    scripts.forEach( function (oldScript) {\n      var newScript = document.createElement(\"script\");\n      var attrs = [];\n      var nodemap = oldScript.attributes;\n      for (var j in nodemap) {\n        if (nodemap.hasOwnProperty(j)) {\n          attrs.push(nodemap[j])\n        }\n      }\n      attrs.forEach(function(attr) { newScript.setAttribute(attr.name, attr.value) });\n      newScript.appendChild(document.createTextNode(oldScript.innerHTML));\n      oldScript.parentNode.replaceChild(newScript, oldScript);\n    });\n    if (JS_MIME_TYPE in output.data) {\n      toinsert[nchildren-1].children[1].textContent = output.data[JS_MIME_TYPE];\n    }\n    output_area._hv_plot_id = id;\n    if ((window.Bokeh !== undefined) && (id in Bokeh.index)) {\n      window.PyViz.plot_index[id] = Bokeh.index[id];\n    } else {\n      window.PyViz.plot_index[id] = null;\n    }\n  } else if (output.metadata[EXEC_MIME_TYPE][\"server_id\"] !== undefined) {\n    var bk_div = document.createElement(\"div\");\n    bk_div.innerHTML = output.data[HTML_MIME_TYPE];\n    var script_attrs = bk_div.children[0].attributes;\n    for (var i = 0; i < script_attrs.length; i++) {\n      toinsert[toinsert.length - 1].childNodes[1].setAttribute(script_attrs[i].name, script_attrs[i].value);\n    }\n    // store reference to server id on output_area\n    output_area._bokeh_server_id = output.metadata[EXEC_MIME_TYPE][\"server_id\"];\n  }\n}\n\n/**\n * Handle when an output is cleared or removed\n */\nfunction handle_clear_output(event, handle) {\n  var id = handle.cell.output_area._hv_plot_id;\n  var server_id = handle.cell.output_area._bokeh_server_id;\n  if (((id === undefined) || !(id in PyViz.plot_index)) && (server_id !== undefined)) { return; }\n  var comm = window.PyViz.comm_manager.get_client_comm(\"hv-extension-comm\", \"hv-extension-comm\", function () {});\n  if (server_id !== null) {\n    comm.send({event_type: 'server_delete', 'id': server_id});\n    return;\n  } else if (comm !== null) {\n    comm.send({event_type: 'delete', 'id': id});\n  }\n  delete PyViz.plot_index[id];\n  if ((window.Bokeh !== undefined) & (id in window.Bokeh.index)) {\n    var doc = window.Bokeh.index[id].model.document\n    doc.clear();\n    const i = window.Bokeh.documents.indexOf(doc);\n    if (i > -1) {\n      window.Bokeh.documents.splice(i, 1);\n    }\n  }\n}\n\n/**\n * Handle kernel restart event\n */\nfunction handle_kernel_cleanup(event, handle) {\n  delete PyViz.comms[\"hv-extension-comm\"];\n  window.PyViz.plot_index = {}\n}\n\n/**\n * Handle update_display_data messages\n */\nfunction handle_update_output(event, handle) {\n  handle_clear_output(event, {cell: {output_area: handle.output_area}})\n  handle_add_output(event, handle)\n}\n\nfunction register_renderer(events, OutputArea) {\n  function append_mime(data, metadata, element) {\n    // create a DOM node to render to\n    var toinsert = this.create_output_subarea(\n    metadata,\n    CLASS_NAME,\n    EXEC_MIME_TYPE\n    );\n    this.keyboard_manager.register_events(toinsert);\n    // Render to node\n    var props = {data: data, metadata: metadata[EXEC_MIME_TYPE]};\n    render(props, toinsert[0]);\n    element.append(toinsert);\n    return toinsert\n  }\n\n  events.on('output_added.OutputArea', handle_add_output);\n  events.on('output_updated.OutputArea', handle_update_output);\n  events.on('clear_output.CodeCell', handle_clear_output);\n  events.on('delete.Cell', handle_clear_output);\n  events.on('kernel_ready.Kernel', handle_kernel_cleanup);\n\n  OutputArea.prototype.register_mime_type(EXEC_MIME_TYPE, append_mime, {\n    safe: true,\n    index: 0\n  });\n}\n\nif (window.Jupyter !== undefined) {\n  try {\n    var events = require('base/js/events');\n    var OutputArea = require('notebook/js/outputarea').OutputArea;\n    if (OutputArea.prototype.mime_types().indexOf(EXEC_MIME_TYPE) == -1) {\n      register_renderer(events, OutputArea);\n    }\n  } catch(err) {\n  }\n}\n",
      "application/vnd.holoviews_load.v0+json": ""
     },
     "metadata": {},
     "output_type": "display_data"
    },
    {
     "data": {
      "text/html": [
       "<style>*[data-root-id],\n",
       "*[data-root-id] > * {\n",
       "  box-sizing: border-box;\n",
       "  font-family: var(--jp-ui-font-family);\n",
       "  font-size: var(--jp-ui-font-size1);\n",
       "  color: var(--vscode-editor-foreground, var(--jp-ui-font-color1));\n",
       "}\n",
       "\n",
       "/* Override VSCode background color */\n",
       ".cell-output-ipywidget-background:has(\n",
       "    > .cell-output-ipywidget-background > .lm-Widget > *[data-root-id]\n",
       "  ),\n",
       ".cell-output-ipywidget-background:has(> .lm-Widget > *[data-root-id]) {\n",
       "  background-color: transparent !important;\n",
       "}\n",
       "</style>"
      ]
     },
     "metadata": {},
     "output_type": "display_data"
    },
    {
     "data": {
      "application/vnd.holoviews_exec.v0+json": "",
      "text/html": [
       "<div id='p1002'>\n",
       "  <div id=\"b2099b10-ff6a-4d91-a832-7c31d214c789\" data-root-id=\"p1002\" style=\"display: contents;\"></div>\n",
       "</div>\n",
       "<script type=\"application/javascript\">(function(root) {\n",
       "  var docs_json = {\"9b328537-94b0-4ea6-af97-65ed1c502c4c\":{\"version\":\"3.4.1\",\"title\":\"Bokeh Application\",\"roots\":[{\"type\":\"object\",\"name\":\"panel.models.browser.BrowserInfo\",\"id\":\"p1002\"},{\"type\":\"object\",\"name\":\"panel.models.comm_manager.CommManager\",\"id\":\"p1003\",\"attributes\":{\"plot_id\":\"p1002\",\"comm_id\":\"11b8df1416334aedaf88d96d3c4d30d9\",\"client_comm_id\":\"12195f88f14545479f1f36260d7b1cd7\"}}],\"defs\":[{\"type\":\"model\",\"name\":\"ReactiveHTML1\"},{\"type\":\"model\",\"name\":\"FlexBox1\",\"properties\":[{\"name\":\"align_content\",\"kind\":\"Any\",\"default\":\"flex-start\"},{\"name\":\"align_items\",\"kind\":\"Any\",\"default\":\"flex-start\"},{\"name\":\"flex_direction\",\"kind\":\"Any\",\"default\":\"row\"},{\"name\":\"flex_wrap\",\"kind\":\"Any\",\"default\":\"wrap\"},{\"name\":\"gap\",\"kind\":\"Any\",\"default\":\"\"},{\"name\":\"justify_content\",\"kind\":\"Any\",\"default\":\"flex-start\"}]},{\"type\":\"model\",\"name\":\"FloatPanel1\",\"properties\":[{\"name\":\"config\",\"kind\":\"Any\",\"default\":{\"type\":\"map\"}},{\"name\":\"contained\",\"kind\":\"Any\",\"default\":true},{\"name\":\"position\",\"kind\":\"Any\",\"default\":\"right-top\"},{\"name\":\"offsetx\",\"kind\":\"Any\",\"default\":null},{\"name\":\"offsety\",\"kind\":\"Any\",\"default\":null},{\"name\":\"theme\",\"kind\":\"Any\",\"default\":\"primary\"},{\"name\":\"status\",\"kind\":\"Any\",\"default\":\"normalized\"}]},{\"type\":\"model\",\"name\":\"GridStack1\",\"properties\":[{\"name\":\"mode\",\"kind\":\"Any\",\"default\":\"warn\"},{\"name\":\"ncols\",\"kind\":\"Any\",\"default\":null},{\"name\":\"nrows\",\"kind\":\"Any\",\"default\":null},{\"name\":\"allow_resize\",\"kind\":\"Any\",\"default\":true},{\"name\":\"allow_drag\",\"kind\":\"Any\",\"default\":true},{\"name\":\"state\",\"kind\":\"Any\",\"default\":[]}]},{\"type\":\"model\",\"name\":\"drag1\",\"properties\":[{\"name\":\"slider_width\",\"kind\":\"Any\",\"default\":5},{\"name\":\"slider_color\",\"kind\":\"Any\",\"default\":\"black\"},{\"name\":\"value\",\"kind\":\"Any\",\"default\":50}]},{\"type\":\"model\",\"name\":\"click1\",\"properties\":[{\"name\":\"terminal_output\",\"kind\":\"Any\",\"default\":\"\"},{\"name\":\"debug_name\",\"kind\":\"Any\",\"default\":\"\"},{\"name\":\"clears\",\"kind\":\"Any\",\"default\":0}]},{\"type\":\"model\",\"name\":\"FastWrapper1\",\"properties\":[{\"name\":\"object\",\"kind\":\"Any\",\"default\":null},{\"name\":\"style\",\"kind\":\"Any\",\"default\":null}]},{\"type\":\"model\",\"name\":\"NotificationAreaBase1\",\"properties\":[{\"name\":\"js_events\",\"kind\":\"Any\",\"default\":{\"type\":\"map\"}},{\"name\":\"position\",\"kind\":\"Any\",\"default\":\"bottom-right\"},{\"name\":\"_clear\",\"kind\":\"Any\",\"default\":0}]},{\"type\":\"model\",\"name\":\"NotificationArea1\",\"properties\":[{\"name\":\"js_events\",\"kind\":\"Any\",\"default\":{\"type\":\"map\"}},{\"name\":\"notifications\",\"kind\":\"Any\",\"default\":[]},{\"name\":\"position\",\"kind\":\"Any\",\"default\":\"bottom-right\"},{\"name\":\"_clear\",\"kind\":\"Any\",\"default\":0},{\"name\":\"types\",\"kind\":\"Any\",\"default\":[{\"type\":\"map\",\"entries\":[[\"type\",\"warning\"],[\"background\",\"#ffc107\"],[\"icon\",{\"type\":\"map\",\"entries\":[[\"className\",\"fas fa-exclamation-triangle\"],[\"tagName\",\"i\"],[\"color\",\"white\"]]}]]},{\"type\":\"map\",\"entries\":[[\"type\",\"info\"],[\"background\",\"#007bff\"],[\"icon\",{\"type\":\"map\",\"entries\":[[\"className\",\"fas fa-info-circle\"],[\"tagName\",\"i\"],[\"color\",\"white\"]]}]]}]}]},{\"type\":\"model\",\"name\":\"Notification\",\"properties\":[{\"name\":\"background\",\"kind\":\"Any\",\"default\":null},{\"name\":\"duration\",\"kind\":\"Any\",\"default\":3000},{\"name\":\"icon\",\"kind\":\"Any\",\"default\":null},{\"name\":\"message\",\"kind\":\"Any\",\"default\":\"\"},{\"name\":\"notification_type\",\"kind\":\"Any\",\"default\":null},{\"name\":\"_destroyed\",\"kind\":\"Any\",\"default\":false}]},{\"type\":\"model\",\"name\":\"TemplateActions1\",\"properties\":[{\"name\":\"open_modal\",\"kind\":\"Any\",\"default\":0},{\"name\":\"close_modal\",\"kind\":\"Any\",\"default\":0}]},{\"type\":\"model\",\"name\":\"BootstrapTemplateActions1\",\"properties\":[{\"name\":\"open_modal\",\"kind\":\"Any\",\"default\":0},{\"name\":\"close_modal\",\"kind\":\"Any\",\"default\":0}]},{\"type\":\"model\",\"name\":\"TemplateEditor1\",\"properties\":[{\"name\":\"layout\",\"kind\":\"Any\",\"default\":[]}]},{\"type\":\"model\",\"name\":\"MaterialTemplateActions1\",\"properties\":[{\"name\":\"open_modal\",\"kind\":\"Any\",\"default\":0},{\"name\":\"close_modal\",\"kind\":\"Any\",\"default\":0}]},{\"type\":\"model\",\"name\":\"copy_to_clipboard1\",\"properties\":[{\"name\":\"fill\",\"kind\":\"Any\",\"default\":\"none\"},{\"name\":\"value\",\"kind\":\"Any\",\"default\":null}]}]}};\n",
       "  var render_items = [{\"docid\":\"9b328537-94b0-4ea6-af97-65ed1c502c4c\",\"roots\":{\"p1002\":\"b2099b10-ff6a-4d91-a832-7c31d214c789\"},\"root_ids\":[\"p1002\"]}];\n",
       "  var docs = Object.values(docs_json)\n",
       "  if (!docs) {\n",
       "    return\n",
       "  }\n",
       "  const py_version = docs[0].version.replace('rc', '-rc.').replace('.dev', '-dev.')\n",
       "  function embed_document(root) {\n",
       "    var Bokeh = get_bokeh(root)\n",
       "    Bokeh.embed.embed_items_notebook(docs_json, render_items);\n",
       "    for (const render_item of render_items) {\n",
       "      for (const root_id of render_item.root_ids) {\n",
       "\tconst id_el = document.getElementById(root_id)\n",
       "\tif (id_el.children.length && (id_el.children[0].className === 'bk-root')) {\n",
       "\t  const root_el = id_el.children[0]\n",
       "\t  root_el.id = root_el.id + '-rendered'\n",
       "\t}\n",
       "      }\n",
       "    }\n",
       "  }\n",
       "  function get_bokeh(root) {\n",
       "    if (root.Bokeh === undefined) {\n",
       "      return null\n",
       "    } else if (root.Bokeh.version !== py_version) {\n",
       "      if (root.Bokeh.versions === undefined || !root.Bokeh.versions.has(py_version)) {\n",
       "\treturn null\n",
       "      }\n",
       "      return root.Bokeh.versions.get(py_version);\n",
       "    } else if (root.Bokeh.version === py_version) {\n",
       "      return root.Bokeh\n",
       "    }\n",
       "    return null\n",
       "  }\n",
       "  function is_loaded(root) {\n",
       "    var Bokeh = get_bokeh(root)\n",
       "    return (Bokeh != null && Bokeh.Panel !== undefined)\n",
       "  }\n",
       "  if (is_loaded(root)) {\n",
       "    embed_document(root);\n",
       "  } else {\n",
       "    var attempts = 0;\n",
       "    var timer = setInterval(function(root) {\n",
       "      if (is_loaded(root)) {\n",
       "        clearInterval(timer);\n",
       "        embed_document(root);\n",
       "      } else if (document.readyState == \"complete\") {\n",
       "        attempts++;\n",
       "        if (attempts > 200) {\n",
       "          clearInterval(timer);\n",
       "\t  var Bokeh = get_bokeh(root)\n",
       "\t  if (Bokeh == null || Bokeh.Panel == null) {\n",
       "            console.warn(\"Panel: ERROR: Unable to run Panel code because Bokeh or Panel library is missing\");\n",
       "\t  } else {\n",
       "\t    console.warn(\"Panel: WARNING: Attempting to render but not all required libraries could be resolved.\")\n",
       "\t    embed_document(root)\n",
       "\t  }\n",
       "        }\n",
       "      }\n",
       "    }, 25, root)\n",
       "  }\n",
       "})(window);</script>"
      ]
     },
     "metadata": {
      "application/vnd.holoviews_exec.v0+json": {
       "id": "p1002"
      }
     },
     "output_type": "display_data"
    }
   ],
   "source": [
    "# Dependencies and Setup\n",
    "import hvplot.pandas\n",
    "import pandas as pd\n",
    "import requests\n",
    "\n",
    "# Import API key\n",
    "from api_keys import geoapify_key"
   ]
  },
  {
   "cell_type": "code",
   "execution_count": 2,
   "metadata": {},
   "outputs": [
    {
     "data": {
      "text/html": [
       "<div>\n",
       "<style scoped>\n",
       "    .dataframe tbody tr th:only-of-type {\n",
       "        vertical-align: middle;\n",
       "    }\n",
       "\n",
       "    .dataframe tbody tr th {\n",
       "        vertical-align: top;\n",
       "    }\n",
       "\n",
       "    .dataframe thead th {\n",
       "        text-align: right;\n",
       "    }\n",
       "</style>\n",
       "<table border=\"1\" class=\"dataframe\">\n",
       "  <thead>\n",
       "    <tr style=\"text-align: right;\">\n",
       "      <th></th>\n",
       "      <th>City_ID</th>\n",
       "      <th>City</th>\n",
       "      <th>Lat</th>\n",
       "      <th>Lng</th>\n",
       "      <th>Max Temp</th>\n",
       "      <th>Humidity</th>\n",
       "      <th>Cloudiness</th>\n",
       "      <th>Wind Speed</th>\n",
       "      <th>Country</th>\n",
       "      <th>Date</th>\n",
       "    </tr>\n",
       "  </thead>\n",
       "  <tbody>\n",
       "    <tr>\n",
       "      <th>0</th>\n",
       "      <td>0</td>\n",
       "      <td>kidal</td>\n",
       "      <td>18.4411</td>\n",
       "      <td>1.4078</td>\n",
       "      <td>30.48</td>\n",
       "      <td>9</td>\n",
       "      <td>2</td>\n",
       "      <td>5.00</td>\n",
       "      <td>ML</td>\n",
       "      <td>1715234145</td>\n",
       "    </tr>\n",
       "    <tr>\n",
       "      <th>1</th>\n",
       "      <td>1</td>\n",
       "      <td>port elizabeth</td>\n",
       "      <td>-33.9180</td>\n",
       "      <td>25.5701</td>\n",
       "      <td>18.16</td>\n",
       "      <td>82</td>\n",
       "      <td>100</td>\n",
       "      <td>1.54</td>\n",
       "      <td>ZA</td>\n",
       "      <td>1715234146</td>\n",
       "    </tr>\n",
       "    <tr>\n",
       "      <th>2</th>\n",
       "      <td>2</td>\n",
       "      <td>tiksi</td>\n",
       "      <td>71.6872</td>\n",
       "      <td>128.8694</td>\n",
       "      <td>-1.03</td>\n",
       "      <td>82</td>\n",
       "      <td>85</td>\n",
       "      <td>2.76</td>\n",
       "      <td>RU</td>\n",
       "      <td>1715234147</td>\n",
       "    </tr>\n",
       "    <tr>\n",
       "      <th>3</th>\n",
       "      <td>3</td>\n",
       "      <td>west island</td>\n",
       "      <td>-12.1568</td>\n",
       "      <td>96.8225</td>\n",
       "      <td>29.99</td>\n",
       "      <td>70</td>\n",
       "      <td>22</td>\n",
       "      <td>6.17</td>\n",
       "      <td>CC</td>\n",
       "      <td>1715234148</td>\n",
       "    </tr>\n",
       "    <tr>\n",
       "      <th>4</th>\n",
       "      <td>4</td>\n",
       "      <td>wailua homesteads</td>\n",
       "      <td>22.0669</td>\n",
       "      <td>-159.3780</td>\n",
       "      <td>25.24</td>\n",
       "      <td>83</td>\n",
       "      <td>100</td>\n",
       "      <td>4.63</td>\n",
       "      <td>US</td>\n",
       "      <td>1715234148</td>\n",
       "    </tr>\n",
       "  </tbody>\n",
       "</table>\n",
       "</div>"
      ],
      "text/plain": [
       "   City_ID               City      Lat       Lng  Max Temp  Humidity  \\\n",
       "0        0              kidal  18.4411    1.4078     30.48         9   \n",
       "1        1     port elizabeth -33.9180   25.5701     18.16        82   \n",
       "2        2              tiksi  71.6872  128.8694     -1.03        82   \n",
       "3        3        west island -12.1568   96.8225     29.99        70   \n",
       "4        4  wailua homesteads  22.0669 -159.3780     25.24        83   \n",
       "\n",
       "   Cloudiness  Wind Speed Country        Date  \n",
       "0           2        5.00      ML  1715234145  \n",
       "1         100        1.54      ZA  1715234146  \n",
       "2          85        2.76      RU  1715234147  \n",
       "3          22        6.17      CC  1715234148  \n",
       "4         100        4.63      US  1715234148  "
      ]
     },
     "execution_count": 2,
     "metadata": {},
     "output_type": "execute_result"
    }
   ],
   "source": [
    "# Load the CSV file created in Part 1 into a Pandas DataFrame\n",
    "city_data_df = pd.read_csv(\"output_data/cities.csv\")\n",
    "\n",
    "# Display sample data\n",
    "city_data_df.head()"
   ]
  },
  {
   "cell_type": "markdown",
   "metadata": {},
   "source": [
    "---\n",
    "\n",
    "### Step 1: Create a map that displays a point for every city in the `city_data_df` DataFrame. The size of the point should be the humidity in each city."
   ]
  },
  {
   "cell_type": "code",
   "execution_count": 4,
   "metadata": {},
   "outputs": [
    {
     "data": {},
     "metadata": {},
     "output_type": "display_data"
    },
    {
     "data": {
      "application/vnd.holoviews_exec.v0+json": "",
      "text/html": [
       "<div id='p1109'>\n",
       "  <div id=\"e82a3e55-25ba-469e-8ca8-52634c7c1cd6\" data-root-id=\"p1109\" style=\"display: contents;\"></div>\n",
       "</div>\n",
       "<script type=\"application/javascript\">(function(root) {\n",
       "  var docs_json = {\"ddf150e4-1f8a-4db3-9531-0be679ceac1d\":{\"version\":\"3.4.1\",\"title\":\"Bokeh Application\",\"roots\":[{\"type\":\"object\",\"name\":\"Row\",\"id\":\"p1109\",\"attributes\":{\"name\":\"Row01837\",\"tags\":[\"embedded\"],\"stylesheets\":[\"\\n:host(.pn-loading):before, .pn-loading:before {\\n  background-color: #c3c3c3;\\n  mask-size: auto calc(min(50%, 400px));\\n  -webkit-mask-size: auto calc(min(50%, 400px));\\n}\",{\"type\":\"object\",\"name\":\"ImportedStyleSheet\",\"id\":\"p1112\",\"attributes\":{\"url\":\"https://cdn.holoviz.org/panel/1.4.2/dist/css/loading.css\"}},{\"type\":\"object\",\"name\":\"ImportedStyleSheet\",\"id\":\"p1201\",\"attributes\":{\"url\":\"https://cdn.holoviz.org/panel/1.4.2/dist/css/listpanel.css\"}},{\"type\":\"object\",\"name\":\"ImportedStyleSheet\",\"id\":\"p1110\",\"attributes\":{\"url\":\"https://cdn.holoviz.org/panel/1.4.2/dist/bundled/theme/default.css\"}},{\"type\":\"object\",\"name\":\"ImportedStyleSheet\",\"id\":\"p1111\",\"attributes\":{\"url\":\"https://cdn.holoviz.org/panel/1.4.2/dist/bundled/theme/native.css\"}}],\"margin\":0,\"sizing_mode\":\"stretch_width\",\"align\":\"start\",\"children\":[{\"type\":\"object\",\"name\":\"Spacer\",\"id\":\"p1113\",\"attributes\":{\"name\":\"HSpacer01843\",\"stylesheets\":[\"\\n:host(.pn-loading):before, .pn-loading:before {\\n  background-color: #c3c3c3;\\n  mask-size: auto calc(min(50%, 400px));\\n  -webkit-mask-size: auto calc(min(50%, 400px));\\n}\",{\"id\":\"p1112\"},{\"id\":\"p1110\"},{\"id\":\"p1111\"}],\"margin\":0,\"sizing_mode\":\"stretch_width\",\"align\":\"start\"}},{\"type\":\"object\",\"name\":\"Figure\",\"id\":\"p1142\",\"attributes\":{\"width\":null,\"height\":null,\"margin\":[5,10],\"sizing_mode\":\"fixed\",\"align\":\"start\",\"x_range\":{\"type\":\"object\",\"name\":\"Range1d\",\"id\":\"p1123\",\"attributes\":{\"tags\":[[[\"Longitude\",\"Longitude\",null]],[]],\"start\":-22614776.230721608,\"end\":22775577.235172484,\"reset_start\":-22614776.230721608,\"reset_end\":22775577.235172484,\"min_interval\":5}},\"y_range\":{\"type\":\"object\",\"name\":\"Range1d\",\"id\":\"p1124\",\"attributes\":{\"tags\":[[[\"Latitude\",\"Latitude\",null]],{\"type\":\"map\",\"entries\":[[\"invert_yaxis\",false],[\"autorange\",false]]}],\"start\":-13439561.03011255,\"end\":20603204.06930802,\"reset_start\":-13439561.03011255,\"reset_end\":20603204.06930802,\"min_interval\":5}},\"x_scale\":{\"type\":\"object\",\"name\":\"LinearScale\",\"id\":\"p1152\"},\"y_scale\":{\"type\":\"object\",\"name\":\"LinearScale\",\"id\":\"p1153\"},\"title\":{\"type\":\"object\",\"name\":\"Title\",\"id\":\"p1145\",\"attributes\":{\"text_color\":\"black\",\"text_font_size\":\"12pt\"}},\"renderers\":[{\"type\":\"object\",\"name\":\"TileRenderer\",\"id\":\"p1175\",\"attributes\":{\"level\":\"underlay\",\"tile_source\":{\"type\":\"object\",\"name\":\"WMTSTileSource\",\"id\":\"p1171\",\"attributes\":{\"url\":\"https://c.tile.openstreetmap.org/{Z}/{X}/{Y}.png\",\"attribution\":\"&copy; <a href=\\\"https://www.openstreetmap.org/copyright\\\">OpenStreetMap</a> contributors\"}}}},{\"type\":\"object\",\"name\":\"GlyphRenderer\",\"id\":\"p1191\",\"attributes\":{\"name\":\"color\",\"data_source\":{\"type\":\"object\",\"name\":\"ColumnDataSource\",\"id\":\"p1180\",\"attributes\":{\"selected\":{\"type\":\"object\",\"name\":\"Selection\",\"id\":\"p1181\",\"attributes\":{\"indices\":[],\"line_indices\":[]}},\"selection_policy\":{\"type\":\"object\",\"name\":\"UnionRenderers\",\"id\":\"p1182\"},\"data\":{\"type\":\"map\",\"entries\":[[\"Lng\",{\"type\":\"ndarray\",\"array\":{\"type\":\"bytes\",\"data\":\"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\"},\"shape\":[574],\"dtype\":\"float64\",\"order\":\"little\"}],[\"Lat\",{\"type\":\"ndarray\",\"array\":{\"type\":\"bytes\",\"data\":\"KY+ktxvhP0Ebo1FeQqdOwdTPdb9LNGZB1oHHeGbONMHvmESjAzlDQVO8YbWGAEbBzzWSYNMOY0HEvQDrEHBCweuzd7ayS1bBr8cu/Lj9QUFkYtusFNVCwfF188SAq1pBzyLiMwH1Y0Gc88h61S9TQbE/NT5GfEFBhywARDukVEGjdKIXibJlQa9Ulu44CFRBhb43dAC/Y0HB9daCRY5bwUxhqYFpwlxBZ3Pi0MDOV0H6e2+NAytbQXQ73LqKXFFB2l6kaFj8W0H83ZOG9EVUwQzc9AQLaSJBujwZyPJUXEGXaG2X7gstwUh808X+KVjBl3w0QVLSVMGj1OgMer5awVVYp5ikUU7B+Ss3HT+EWUHk+s6LyhBMQazuGb4whmNBw8Y20PIaYUGvOPkQ3jEzQVMGx7jVsF9BkFjaooLvW8HGbIr3oDleQX46bpAXwFnB4Kd8yj/ANkEWZBvkPztAwaMAdyKZIC3BzqXoPZISWUGXe0q6iPlAQT0j0eYOPlNB1/kIXdUqT8GVifMB/gBEQeltHbXslAJBTaCRkHKKOUFMjuXrKeVSQY5lCd2fclhBiAfkDmAkQ0F8mEy1bphPwTeRiSIZClTBQO5bfFK7VEGKH6TQvoZPQaIMsV3h/iZBQW2XHM+YP0GyKMuCyOBiQVEe3OM5lCZB+PBiHci7PsFxijO8BsxkQYZ4HyPTTyHBXnvzTkaMMUHHxEgKtOcsQeTSTKGRVldB9vHeMyavSsGETU/p+Qo3wd7Fnkq60EXBbNhs1/U5YkG/fuDOBbALQehGMQh+pClB5wogY0X4UMEQKgo2hb1YQXgZJbABTVZBmEcv+UFlVsGrBLIo+x9aQV/oGF9/TULB26evkWapTMFPSZkKrLJgQa8flNfHH0lBb2aonNSmNkE30I8d86Q+wb1KrBGHtmFBhl6E5K1VZEHNpdKkiOFLQUhDFzpwomRBMXwnp1wgXkFlUw6eUOIywSrqrXYk7GFBcjw5e08OQcEr2nXRpLlWQRTgp9VEM1NBaKMujkPXR0HxDhY9VKY0waI7gzladypBwvcSRsTIQ0HZeQq0KHswwdppz3KG1UJBPncTY6G/UUHfW6DCpwxEwTa6bsoEhhBBTG0/neP9N0FZWV/23e5MQS5gPWfXgArByss/CQfuBUEz+HeImyBCQYoO9eyC9xbBARVsHKWvTsEFuHRIiL9kQVjcubNCazZBARmmC784RsGeBC2qV/hFwYggVp/sfjfB5ns94NZmH0Hw61xNLycSQfPKKB2m8D/BPoD+kpCjXEEPO0/heq5DQVkfMU1l6UPBfnodJKIJO8HuIOaTR49TQdm8V+0ru1RBBpiYt2ZGVEFm/8Fxa2RMQYyqZwy79i7BxN6CWFfzRkElfCkPF/VUQWZELGfNFT9Bk04rb8t+R8FQAkSMCRdZQX5XAkxzAzDBFN1WOp0RR0Gfuj8OKLtQQcC+sjUcBD9BxqAW5MrPSkFBBKQ9uEdRQfm/tv/YeU5B3071RP7gTMGTSppY77FMQfXVKyvB+URBYlSlwRtoYEGQhxJjW0YvwX2NAHORoGNBJ1I9LnxUU0GIihOaOp1VQdV8ggA2l0BBYqSBiMwX9MCwPwFO+4xXQevK8MzP1kJBHwhBbMXcWkFnc5xG4XViQaPs5LsqEkFBhPI/i0GqQkHL/CeZGZUnQZRkBlFDNDXBWK2VsDX1PkGHilt1eUozQdiTZbOJo0tBAU34fOZmM0F1QURvv47XwAwTjlOnbUZByLIo9kroPEHmlSsXb7pEwas02ap13EpBohfURPqcU8EShd1Be0o3QTpjcpKevU7BRo3XWnVWXEEYPEKYYihSQc0RsEP6m0zBGeNkFOf6Q0F9jQBzkaBjQUM9nkaSHSJByz5KcDvEOUGiSLR6+7tNwW85wPMat2FBL4W2fJIvQkEigt48nYNUQU8oFWDGNxHB0CzDzv6RUMFsv80nxEpZQTfQjx3zpD7BVTsI75c2WUG7fZyOy6c6QYM/JzHF3VFBTCN/a1zNTkE7ypzejAxHwf5Zqryt1mJBDG8IkgZuOMFvfyL2oUFhQcHJG+XvwVFB9KYbJfY6Q0EV1SydI1RgQc1ERp09nRPBdBft0TEzR0G9fmps8Z9JwXgPx7m1oTFBhp/QrjRUYEHzQc0FO7kgQRLLxxDFlEdByeAR+gLhPkEH0eLcHLZZQX89OzuvBSXBZSiF5f9kT0FPqRlfctsxwfoRNCH/ZElBB7+JotbNSEGFxRgOh30gQdcuGqnESE/BP0IO/zYrUUHU4QcYFHtcQYYLu+bYpF1BQyOt/d1rREF+A+qY7jI/wSy318KjmVpBb5ToewBMK8EiSnb7msJVQWjwkXSbVmNBD0jK7wZqJkHuAIKVy2xTQcimcLDoY11Bl/eO87tWR8H/ARGE/ak1QdRXWp39vy3Bviya/ZWwWkG0cJLgedA7wcpCA39jPQDBBPSg0I+JX0HDeqv3C2ZBwWfJJ7BgW0HBPuGuTYi0LMGh5WpGoHJdQQ1VPWLI6i9Bh+NxTdvHK0FyNv6HlQsDwW5Pku2x71NBv0ZU9D94WEGhziHKDBNRwXhSpMPWEFDBxSUNTN4ZUUH21ZHyfOpRQdorV7lffydBsl0sTFSWWUGSJfu1jzlMQZisnThPVFZBiAzDS5dmLkGxRTklzSAcQb8YZws/s15BOMQORBeTVMFJ4M2Gvmk1Qc1EMmFlWENBe1LmJhaAUkHenISCWY0rQaP6c79aQ1HBrP7n6QwkJEFTYc25JjYpwdhL4QH/iyZBftY6jtxHWUGuLKWvjZ0+wWchjf5EbTZB74DiOwN9VUEfaWTTMJcxwfkWRE8kYiJBxPvebFOoZEGK16zNZIxTQdOT8r2goWtBXw8nvzarQkE5YVIeThxiQZFYAasmOEnBcU36Kfj4RMFamQgg02U1weyuyLOB7SxBlG6+Ti2CVkHlx/9qyNo/QTvQDDd0LUJB0T4gKdyGFUF2St/CBhlBQZt9e+Fnk1RBTPaGaA4jEcG45kzRoS9AwU546+KsfWFBf6vTTm4AUMH5W+zE8bNXQVMUe/+GQ0LBmEexj8jQV0FF/wB7s/snQSHg6pvew0LBiIHh1gW5WUEHx6+tJbFjQXrkilw7QWJBih8UKNTeJsE2pwXho5sgwTqN5QV7v0FBVfU810YYK8GQO0TDo04ywYDqAEBpyFBBwxkf5Z8KRMHyCANfRtYkwfjwYh3Iuz7BWwIIYGAxSUHLVhAAkbpgQe6Y/XIzoUpBALixk+MNTEFCFUBLHddSQRuxnZf6dfjA54CFAV4OJEFp1zx6i35WQWOWjGa7B01BoiDspI5O8MBkM6QqzbwjQYm7/4b3AhLBrzpfCH21VUErpwA6dIkhQZ2pP5Hk/11Bo7HVXAsGXUFLaEkmIkoxwWSbVlBNBktB3diQ5fKwS0F+9xlYAQZdQfReSF4J+FXBxTnT9TCXWEH783Q/O9JiQbGk26+g0lHBgw6p/d+eS0EJroLGzpZaQc0yJj7ofU/BzqRngvCyJEE+IC/c9sNIQdrwnV1dFTNBSXgCHvF/V0F60OrbQPAkQbGqFuV9PD9BdsQzdtlWSkHIL/9D1/lBQUDO11sk/UXBWKekuRjxPkFSbmwzq59YQYf3NOKyC1tBZyIzjQnWPMEFzzoqi35AwWuAPm/9509BRJRXeCPoL0FVOwjvlzZZQexI9/2hKBjBce7FSxhxJ0EHYnWmIyYlwX6jRGN5KhNB2lc2ATkgO8FoghSvzohXQb0BWP50AzpBl/eO87tWR0Fr8735DLFhQXmHP9e/5hxBZMjNFcDUU0F7i80Y5cFNQRFB7pj0nFHBoudiA0bXWUEt31WxXFFgQbn2pdgfYVHBruCgcmLxSkEfJCu1wXVYQb+mlnHNM2FB64wIfzWpV0FpmKKsvGBWQfPo/fuC9mBBcMfCMy1KU0Go8vK5S61MQV7fjXj5/FJB4kaS+PzMMcFRXK8S7NVhQTQ/YuCK70DBkkqEMKPhRMHa7B8R0QRJwZIFzDCh9llBZq90rSt0QEFX9t/1ppdJQUtO9EnBwV5BF23fn8eiXkHeNKYqOL5TQTE+JWdhkCBB4JU6IfA/TMHTiZdk5+BiQUheXYREjvfAG0GPUFSSY0FQSCQjVQVXQdARfuone09BAoatTJUzYkEmDKcTmGQ8wa+GDDETAF5BkpvRDLIcUkEC5wGFG4NBwRRaeG/qtGJBTJBgoBJPNEGfVdDLyiVUQQpMNp4oY1RBj1FACU2xUEGIsXxeqeEqQRXXLz0bqD9B4RS7d6SsYkGj3X3zg+lbQW58Nus2I1TB5vDZ4RhlPUET7tcoNegyQSz2aeHoM1BB2j9AHgO/P8GFP9Tkwv9GQTZQo/y+sVFBFissfTx6QcHfEncDvwAXwfLkF5SX6zBBPjbY+ch4SEFpspbuta5jQThjNf+aKVZBrLWtp8PRNsF68ynYRHhSQTpc+2ITPSxBx8TbKAsOOkHbuyiPyJ8mwX71bgz1xjPBudN2B0UWYEGCZVDinoRQQRal+HSaIEHBNErQf8PlPsEbXEWE1m05wQVD9ewJMULBhXO3WVvKPUEKZKCA8IBFwfEhpUtQVFVBnsmDVsvnO0Gn1T60rOtgQdywHmDCHjrBOkdm216EAMEIKrSnSlZZQTXG7YLRYktBUzF358piKUEbeceEqC9jQVW7VO3fA1JBg+06LUpII8HanOMS3dViQRchGXdFrV9BkTkRIbkUN0GAxNGP0SlQQVGKdwltxifBgmTPgF8GR8F7A6rUvgJKQTeLrN++KVtBoi0WwgZ2UUHErB/LyptVQQc0iI81DEFBUdcmzX0oZUGhRFIeLUphQY7BYSzHs0NBaxXsxe8+TsFK82cJgNsQQZzBSSgQFUtBdCamfsYy8UC3QCIjNflVwRDRsK05HExBm8oqgBHvXEEcy4tLCx4mQc8UeevmM0TBuRUr3O8oW0E5Jj6rkLdAwRj+lDpuiCtBarnBfpxmYEERbtmFDLtNwSpY29opvkdBLlKOS5iEWUF/pqihokxXQa4CvUXKcU1Be0jhlDx4YEGigUiqXzZMQUBbBkS5vihBpcCGduSMNUH7fgFI2ZhFwVP+xLEKp1JBHlymTmEDNEHK2J4ygjA5QbD9s6qt+EXBjEelGFuCVUEYLRas8BhiQcNQAQmQWS7BZ95YXipCKkHqboPGIIdJwUW1Uso6k0LBYw7nNz4NJ0EnDmII//oWQbU195yF8SnBQ1cEMZiOU0Edy7TzZbZUQTD4UIvEODfBt+ZkwqizJkHVovNizDZGQWdfXpBRIVlBoTZfwcjnVUGlqe+BJc1GQdd6uH4HzWFB0nkccwg/NMFCdHEt8NhOQeFrWpI2t0tBOQM+yscTWEHtalu6mgJCwbAZMGUKBlFBn2F8Ym+fTEGYYnSHqpteQXVfcIgzDTJBDkiLvh+dIEG+4VL75jRUQQjWBFaaj1FBx6+7b8r8Q8HN9q4K6xlWQUAOjYhtJiBBGJTII7JtTEFfapy1VMz5wNK9iXnj5RHBUSTjUka7NEHMp8KbDoVGwX01IfHOSWBBsFYORiBOVkF4LSmLiz9VQdyOG8aXKFdBuf/0erafZEERsZcIokVRQYWdJlrrdk5ByCa6Y7+OQsHN21A1+VpIQdojsTIeIBnBkO0M40PCQUGHM2XiIJdgQSs70zyBvjvBTaMEygyAWUFYj4i5V7JRQcmwrvdl9kxBC2F/O+b1MsEVxBivuyReQdxLI/JRCFpBV0+Rkn7HVUHwWf9xqsxVwf4meNhaeyXB4EDVJ4x688C4QdGG5oVRwd2V8rZaOTLBf6aooaJMV0FRijKKCwwwwe3R0e8WQ0dBB39n+SbSTEGB1oTxX8kmwdfqkVomLhLBtYegKGuwXEGC2ILTVjVKwdY/H1/K4kLBMQaYggRWYEF/tbi4/BdFQeFcElMIlllBUBa6HejsN0HEAPW8KjVYQTup2tu1rz/B5ns94NZmH8GZArqU+RxWwaXiHmmEkDFBpqvBwba9Y0HJsK73ZfZMwSehOsKWri9BRh1PBAU0IkEb3VZ2uuYlwepZfsyHCFVBOZFwb5TZYkEtBJkTBfMAQUutigRMIV5BO6Pz4CGJWEE=\"},\"shape\":[574],\"dtype\":\"float64\",\"order\":\"little\"}],[\"City\",[\"kidal\",\"port elizabeth\",\"tiksi\",\"west island\",\"wailua homesteads\",\"adamstown\",\"udachny\",\"avarua\",\"invercargill\",\"balangir\",\"sao joao da barra\",\"petropavlovsk-kamchatsky\",\"bilibino\",\"bari\",\"al mindak\",\"erenhot\",\"olonkinbyen\",\"albany\",\"iskateley\",\"grytviken\",\"livingston\",\"la sarre\",\"kingston upon hull\",\"rabo de peixe\",\"stanley\",\"blackmans bay\",\"georgetown\",\"melenki\",\"lospalos\",\"port-aux-francais\",\"waitangi\",\"punta arenas\",\"port alfred\",\"margate\",\"mersa matruh\",\"bodo\",\"yellowknife\",\"utrik\",\"ola\",\"ushuaia\",\"kodiak\",\"puerto natales\",\"inarajan village\",\"tsiroanomandidy\",\"atafu village\",\"island harbour\",\"hawaiian paradise park\",\"madalena\",\"hermanus\",\"aldama\",\"bikenibeu village\",\"nova sintra\",\"fortuna\",\"dryden\",\"lihue\",\"montevideo\",\"chonchi\",\"urumqi\",\"paphos\",\"robertsport\",\"myanaung\",\"isafjordur\",\"tibanbang\",\"nadi\",\"talnakh\",\"paita\",\"mejit\",\"laascaanood\",\"choibalsan\",\"coquimbo\",\"porangatu\",\"carnarvon\",\"badger\",\"mogadishu\",\"bonthe\",\"edinburgh of the seven seas\",\"amursk\",\"miles city\",\"papatowai\",\"klyuchi\",\"kone\",\"broken hill\",\"tvoroyri\",\"al bawiti\",\"bathsheba\",\"papao\",\"iqaluit\",\"aasiaat\",\"qamdo\",\"ilulissat\",\"vimmerby\",\"formosa do rio preto\",\"nuuk\",\"port mathurin\",\"urzhar\",\"westport\",\"al jubayl\",\"callao\",\"las tablas\",\"taoudenni\",\"waingapu\",\"porbandar\",\"ribeira grande\",\"arraial do cabo\",\"mersing\",\"goure\",\"stephenville\",\"inongo\",\"ouesso\",\"celestun\",\"sao paulo de olivenca\",\"margaret river\",\"dudinka\",\"tuy hoa\",\"tsiombe\",\"tolanaro\",\"pisco\",\"santa elena de uairen\",\"kudahuvadhoo\",\"arica\",\"thompson\",\"sur\",\"farafangana\",\"mahajanga\",\"hakodate\",\"mangalia\",\"kegen\",\"hassi messaoud\",\"daru\",\"port isabel\",\"constantia\",\"kingston\",\"luderitz\",\"onguday\",\"fale old settlement\",\"sarupathar\",\"pacific grove\",\"lazaro cardenas\",\"fengkou\",\"mammoth lakes\",\"rancho palos verdes\",\"forster\",\"kobayashi\",\"puli\",\"amga\",\"aripuana\",\"tazovsky\",\"bethel\",\"crolles\",\"dongola\",\"puerto ayora\",\"thunder bay\",\"la'ie\",\"happy valley-goose bay\",\"egilsstadir\",\"igatpuri\",\"wuchuan\",\"palikir - national government center\",\"taguatinga\",\"faya-largeau\",\"bubaque\",\"dawesville\",\"enewetak\",\"boende\",\"tura\",\"timbuktu\",\"alice springs\",\"ghadamis\",\"ancud\",\"ouahigouya\",\"kruisfontein\",\"ketchikan\",\"kamaishi\",\"queenstown\",\"cabo san lucas\",\"igarka\",\"tofol\",\"douentza\",\"east london\",\"vilyuysk\",\"nouadhibou\",\"adler\",\"jayapura\",\"dolores\",\"strathmore\",\"afaahiti\",\"kolonia\",\"olanchito\",\"praia da vitoria\",\"ontario\",\"formosa\",\"aykhal\",\"ta`u\",\"susuman\",\"horta\",\"kapa'a\",\"whitehorse\",\"acarau\",\"katsuren-haebaru\",\"ballina\",\"quesada\",\"qaqortoq\",\"remire-montjoly\",\"smara\",\"morant bay\",\"berezovyy\",\"mendi\",\"lompoc\",\"kirakira\",\"tazacorte\",\"san patricio\",\"matoury\",\"bredasdorp\",\"santyoku\",\"kedrovka\",\"sitka\",\"kaihua\",\"opuwo\",\"labrador city\",\"olinda\",\"portland\",\"sisimiut\",\"lagos\",\"barcelos\",\"fort mcmurray\",\"bethanie\",\"hadibu\",\"kuta\",\"rebrikha\",\"tete\",\"carutapera\",\"murashi\",\"pointe aux piments\",\"bowen\",\"lucapa\",\"revda\",\"san bernardo del viento\",\"aur\",\"san antonio de pale\",\"porto santo stefano\",\"taber\",\"villa gesell\",\"ulladulla\",\"newman\",\"retreat\",\"kpalime\",\"rechka-vydrino\",\"essaouira\",\"paray-le-monial\",\"koumra\",\"meulaboh\",\"boguchany\",\"christchurch\",\"korem\",\"macau\",\"mao\",\"kanniyakumari\",\"lebu\",\"caburan\",\"pacasmayo\",\"kulhudhuffushi\",\"northam\",\"port-vila\",\"madras\",\"rosolina\",\"mtama\",\"sarangani\",\"gadzhiyevo\",\"crescent city\",\"longyearbyen\",\"cockburn town\",\"ust-nera\",\"upington\",\"sao vicente\",\"howard springs\",\"freetown\",\"champagnole\",\"la romana\",\"haiku-pauwela\",\"bintulu\",\"hilo\",\"navia\",\"pinheiro\",\"sao mateus\",\"nyurba\",\"kerikeri\",\"kirovsk\",\"rakops\",\"bulgan\",\"kloulklubed\",\"ghanzi\",\"kaa-khem\",\"vorgashor\",\"college\",\"inyonga\",\"carauari\",\"basco\",\"bambanglipuro\",\"kolwezi\",\"sarigerme\",\"walvis bay\",\"kiunga\",\"santa cruz\",\"las palmas\",\"meadow lakes\",\"barkhan\",\"zhob\",\"hachinohe\",\"puerto baquerizo moreno\",\"sabang\",\"cloquet\",\"juegang\",\"hithadhoo\",\"tanah merah\",\"gamba\",\"sona\",\"kourou\",\"peterhead\",\"peace river\",\"coruripe\",\"enshi\",\"arar\",\"fort st. john\",\"comodoro rivadavia\",\"kosh-agach\",\"urengoy\",\"gisborne\",\"wenchang\",\"vilyuchinsk\",\"port lincoln\",\"mili\",\"guerrero negro\",\"rongelap\",\"synel'nykove\",\"nkpor\",\"san german\",\"wucheng\",\"ixtapa\",\"xai-xai\",\"madugula\",\"medicine hat\",\"okha\",\"uturoa\",\"alofi\",\"katsuura\",\"zaraza\",\"colonia\",\"wewak\",\"kudat\",\"arawa\",\"boa vista\",\"kununurra\",\"sooke\",\"saipan\",\"illizi\",\"holmsund\",\"tawau\",\"broome\",\"ar rutbah\",\"codrington\",\"carmarthen\",\"ivdel'\",\"mount gambier\",\"ascension\",\"karagandy\",\"khandyga\",\"kurchum\",\"marquette\",\"suntar\",\"douglas\",\"borujen\",\"lianshan\",\"flying fish cove\",\"keflavik\",\"isangel\",\"inhambane\",\"imbituba\",\"chita\",\"mumbai\",\"bahia de kino\",\"egersund\",\"juneau\",\"jamestown\",\"axim\",\"san juan\",\"loukhi\",\"manokwari\",\"polyarnyye zori\",\"st. john's\",\"morehead city\",\"anadyr\",\"port douglas\",\"nema\",\"hamilton\",\"chipinge\",\"saudarkrokur\",\"bereeda\",\"hami\",\"roma\",\"sarakhs\",\"san fernando de apure\",\"bhigvan\",\"akureyri\",\"flin flon\",\"new norfolk\",\"aleg\",\"bawku\",\"greenville\",\"shakawe\",\"itoman\",\"shache\",\"bulawayo\",\"maues\",\"san juan de los morros\",\"tindouf\",\"kovdor\",\"blaj\",\"lichinga\",\"laojunmiao\",\"puerto armuelles\",\"selibaby\",\"sao felix do xingu\",\"conceicao do coite\",\"lerwick\",\"morristown\",\"esmeraldas\",\"nova vicosa\",\"cuamba\",\"le port\",\"san luis de la loma\",\"chokwe\",\"bakanas\",\"al ghayzah\",\"midvagur\",\"namibe\",\"fougamou\",\"chegdomyn\",\"sahiwal\",\"weno\",\"labytnangi\",\"sterling\",\"tual\",\"usinsk\",\"magadan\",\"piti village\",\"ulsan\",\"cabedelo\",\"lichtenburg\",\"timimoun\",\"karasuk\",\"la junta\",\"saint john\",\"loikaw\",\"vadso\",\"bereznik\",\"howrah\",\"santa vitoria do palmar\",\"sinabang\",\"dogonbadan\",\"kyenjojo\",\"dunedin\",\"crane\",\"sosnovoborsk\",\"porto novo\",\"san ramon de la nueva oran\",\"mogocha\",\"prata\",\"ouadda\",\"elverum\",\"saldanha\",\"gufeng\",\"querfurt\",\"hovd\",\"gilmer\",\"priozersk\",\"nagqu\",\"anna regina\",\"san andres\",\"mariental\",\"lata\",\"bamboo flat\",\"mopti\",\"amboasary\",\"menominee\",\"arkhangel'sk\",\"sao jose da coroa grande\",\"siocon\",\"geraldton\",\"saint-philippe\",\"gaalkacyo\",\"lethem\",\"mancio lima\",\"sinop\",\"muynoq\",\"zambezi\",\"obudu\",\"chabahar\",\"rottingdean\",\"mandalgovi\",\"murzuq\",\"selfoss\",\"mpika\",\"shahrak\",\"kandahar\",\"poronaysk\",\"karratha\",\"ivins\",\"miyazaki\",\"strugi-krasnyye\",\"kavaratti\",\"takoradi\",\"preobrazheniye\",\"murghob\",\"santa cruz do rio pardo\",\"zhaodong\",\"san-pedro\",\"rodolfo sanchez taboada\",\"padang\",\"abepura\",\"anka\",\"ga-rankuwa\",\"voss\",\"saint-francois\",\"cole harbour\",\"zhezqazghan\",\"polyarnyy\",\"argo\",\"shingu\",\"saint-pierre\",\"brak\",\"ambon\",\"as sulayyil\",\"yugorsk\",\"senanga\",\"ulety\",\"laguna\",\"zabol\",\"caleta de carquin\",\"fraserburgh\",\"mallow\",\"la passe\",\"sarmiento\",\"santo antonio\",\"boca suno\",\"kawerau\",\"paramonga\",\"khovd\",\"barra de santo antonio\",\"leiyang\",\"figuig (centre)\",\"lasem\",\"mamuju\",\"uyar\",\"moree\",\"porto murtinho\",\"nyrob\",\"aswan\",\"bochum\",\"hiriyur\",\"kapuskasing\",\"robore\",\"bel ombre\",\"gore\",\"birao\",\"nar'yan-mar\",\"dubbo\",\"bac lieu\",\"hobyo\",\"sokoni\",\"brookings\",\"sandnessjoen\",\"simanggang\",\"irbit\",\"chibougamau\"]],[\"Humidity\",{\"type\":\"ndarray\",\"array\":{\"type\":\"bytes\",\"data\":\"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\"},\"shape\":[574],\"dtype\":\"int32\",\"order\":\"little\"}],[\"color\",[\"kidal\",\"port elizabeth\",\"tiksi\",\"west island\",\"wailua homesteads\",\"adamstown\",\"udachny\",\"avarua\",\"invercargill\",\"balangir\",\"sao joao da barra\",\"petropavlovsk-kamchatsky\",\"bilibino\",\"bari\",\"al mindak\",\"erenhot\",\"olonkinbyen\",\"albany\",\"iskateley\",\"grytviken\",\"livingston\",\"la sarre\",\"kingston upon hull\",\"rabo de peixe\",\"stanley\",\"blackmans bay\",\"georgetown\",\"melenki\",\"lospalos\",\"port-aux-francais\",\"waitangi\",\"punta arenas\",\"port alfred\",\"margate\",\"mersa matruh\",\"bodo\",\"yellowknife\",\"utrik\",\"ola\",\"ushuaia\",\"kodiak\",\"puerto natales\",\"inarajan village\",\"tsiroanomandidy\",\"atafu village\",\"island harbour\",\"hawaiian paradise park\",\"madalena\",\"hermanus\",\"aldama\",\"bikenibeu village\",\"nova sintra\",\"fortuna\",\"dryden\",\"lihue\",\"montevideo\",\"chonchi\",\"urumqi\",\"paphos\",\"robertsport\",\"myanaung\",\"isafjordur\",\"tibanbang\",\"nadi\",\"talnakh\",\"paita\",\"mejit\",\"laascaanood\",\"choibalsan\",\"coquimbo\",\"porangatu\",\"carnarvon\",\"badger\",\"mogadishu\",\"bonthe\",\"edinburgh of the seven seas\",\"amursk\",\"miles city\",\"papatowai\",\"klyuchi\",\"kone\",\"broken hill\",\"tvoroyri\",\"al bawiti\",\"bathsheba\",\"papao\",\"iqaluit\",\"aasiaat\",\"qamdo\",\"ilulissat\",\"vimmerby\",\"formosa do rio preto\",\"nuuk\",\"port mathurin\",\"urzhar\",\"westport\",\"al jubayl\",\"callao\",\"las tablas\",\"taoudenni\",\"waingapu\",\"porbandar\",\"ribeira grande\",\"arraial do cabo\",\"mersing\",\"goure\",\"stephenville\",\"inongo\",\"ouesso\",\"celestun\",\"sao paulo de olivenca\",\"margaret river\",\"dudinka\",\"tuy hoa\",\"tsiombe\",\"tolanaro\",\"pisco\",\"santa elena de uairen\",\"kudahuvadhoo\",\"arica\",\"thompson\",\"sur\",\"farafangana\",\"mahajanga\",\"hakodate\",\"mangalia\",\"kegen\",\"hassi messaoud\",\"daru\",\"port isabel\",\"constantia\",\"kingston\",\"luderitz\",\"onguday\",\"fale old settlement\",\"sarupathar\",\"pacific grove\",\"lazaro cardenas\",\"fengkou\",\"mammoth lakes\",\"rancho palos verdes\",\"forster\",\"kobayashi\",\"puli\",\"amga\",\"aripuana\",\"tazovsky\",\"bethel\",\"crolles\",\"dongola\",\"puerto ayora\",\"thunder bay\",\"la'ie\",\"happy valley-goose bay\",\"egilsstadir\",\"igatpuri\",\"wuchuan\",\"palikir - national government center\",\"taguatinga\",\"faya-largeau\",\"bubaque\",\"dawesville\",\"enewetak\",\"boende\",\"tura\",\"timbuktu\",\"alice springs\",\"ghadamis\",\"ancud\",\"ouahigouya\",\"kruisfontein\",\"ketchikan\",\"kamaishi\",\"queenstown\",\"cabo san lucas\",\"igarka\",\"tofol\",\"douentza\",\"east london\",\"vilyuysk\",\"nouadhibou\",\"adler\",\"jayapura\",\"dolores\",\"strathmore\",\"afaahiti\",\"kolonia\",\"olanchito\",\"praia da vitoria\",\"ontario\",\"formosa\",\"aykhal\",\"ta`u\",\"susuman\",\"horta\",\"kapa'a\",\"whitehorse\",\"acarau\",\"katsuren-haebaru\",\"ballina\",\"quesada\",\"qaqortoq\",\"remire-montjoly\",\"smara\",\"morant bay\",\"berezovyy\",\"mendi\",\"lompoc\",\"kirakira\",\"tazacorte\",\"san patricio\",\"matoury\",\"bredasdorp\",\"santyoku\",\"kedrovka\",\"sitka\",\"kaihua\",\"opuwo\",\"labrador city\",\"olinda\",\"portland\",\"sisimiut\",\"lagos\",\"barcelos\",\"fort mcmurray\",\"bethanie\",\"hadibu\",\"kuta\",\"rebrikha\",\"tete\",\"carutapera\",\"murashi\",\"pointe aux piments\",\"bowen\",\"lucapa\",\"revda\",\"san bernardo del viento\",\"aur\",\"san antonio de pale\",\"porto santo stefano\",\"taber\",\"villa gesell\",\"ulladulla\",\"newman\",\"retreat\",\"kpalime\",\"rechka-vydrino\",\"essaouira\",\"paray-le-monial\",\"koumra\",\"meulaboh\",\"boguchany\",\"christchurch\",\"korem\",\"macau\",\"mao\",\"kanniyakumari\",\"lebu\",\"caburan\",\"pacasmayo\",\"kulhudhuffushi\",\"northam\",\"port-vila\",\"madras\",\"rosolina\",\"mtama\",\"sarangani\",\"gadzhiyevo\",\"crescent city\",\"longyearbyen\",\"cockburn town\",\"ust-nera\",\"upington\",\"sao vicente\",\"howard springs\",\"freetown\",\"champagnole\",\"la romana\",\"haiku-pauwela\",\"bintulu\",\"hilo\",\"navia\",\"pinheiro\",\"sao mateus\",\"nyurba\",\"kerikeri\",\"kirovsk\",\"rakops\",\"bulgan\",\"kloulklubed\",\"ghanzi\",\"kaa-khem\",\"vorgashor\",\"college\",\"inyonga\",\"carauari\",\"basco\",\"bambanglipuro\",\"kolwezi\",\"sarigerme\",\"walvis bay\",\"kiunga\",\"santa cruz\",\"las palmas\",\"meadow lakes\",\"barkhan\",\"zhob\",\"hachinohe\",\"puerto baquerizo moreno\",\"sabang\",\"cloquet\",\"juegang\",\"hithadhoo\",\"tanah merah\",\"gamba\",\"sona\",\"kourou\",\"peterhead\",\"peace river\",\"coruripe\",\"enshi\",\"arar\",\"fort st. john\",\"comodoro rivadavia\",\"kosh-agach\",\"urengoy\",\"gisborne\",\"wenchang\",\"vilyuchinsk\",\"port lincoln\",\"mili\",\"guerrero negro\",\"rongelap\",\"synel'nykove\",\"nkpor\",\"san german\",\"wucheng\",\"ixtapa\",\"xai-xai\",\"madugula\",\"medicine hat\",\"okha\",\"uturoa\",\"alofi\",\"katsuura\",\"zaraza\",\"colonia\",\"wewak\",\"kudat\",\"arawa\",\"boa vista\",\"kununurra\",\"sooke\",\"saipan\",\"illizi\",\"holmsund\",\"tawau\",\"broome\",\"ar rutbah\",\"codrington\",\"carmarthen\",\"ivdel'\",\"mount gambier\",\"ascension\",\"karagandy\",\"khandyga\",\"kurchum\",\"marquette\",\"suntar\",\"douglas\",\"borujen\",\"lianshan\",\"flying fish cove\",\"keflavik\",\"isangel\",\"inhambane\",\"imbituba\",\"chita\",\"mumbai\",\"bahia de kino\",\"egersund\",\"juneau\",\"jamestown\",\"axim\",\"san juan\",\"loukhi\",\"manokwari\",\"polyarnyye zori\",\"st. john's\",\"morehead city\",\"anadyr\",\"port douglas\",\"nema\",\"hamilton\",\"chipinge\",\"saudarkrokur\",\"bereeda\",\"hami\",\"roma\",\"sarakhs\",\"san fernando de apure\",\"bhigvan\",\"akureyri\",\"flin flon\",\"new norfolk\",\"aleg\",\"bawku\",\"greenville\",\"shakawe\",\"itoman\",\"shache\",\"bulawayo\",\"maues\",\"san juan de los morros\",\"tindouf\",\"kovdor\",\"blaj\",\"lichinga\",\"laojunmiao\",\"puerto armuelles\",\"selibaby\",\"sao felix do xingu\",\"conceicao do coite\",\"lerwick\",\"morristown\",\"esmeraldas\",\"nova vicosa\",\"cuamba\",\"le port\",\"san luis de la loma\",\"chokwe\",\"bakanas\",\"al ghayzah\",\"midvagur\",\"namibe\",\"fougamou\",\"chegdomyn\",\"sahiwal\",\"weno\",\"labytnangi\",\"sterling\",\"tual\",\"usinsk\",\"magadan\",\"piti village\",\"ulsan\",\"cabedelo\",\"lichtenburg\",\"timimoun\",\"karasuk\",\"la junta\",\"saint john\",\"loikaw\",\"vadso\",\"bereznik\",\"howrah\",\"santa vitoria do palmar\",\"sinabang\",\"dogonbadan\",\"kyenjojo\",\"dunedin\",\"crane\",\"sosnovoborsk\",\"porto novo\",\"san ramon de la nueva oran\",\"mogocha\",\"prata\",\"ouadda\",\"elverum\",\"saldanha\",\"gufeng\",\"querfurt\",\"hovd\",\"gilmer\",\"priozersk\",\"nagqu\",\"anna regina\",\"san andres\",\"mariental\",\"lata\",\"bamboo flat\",\"mopti\",\"amboasary\",\"menominee\",\"arkhangel'sk\",\"sao jose da coroa grande\",\"siocon\",\"geraldton\",\"saint-philippe\",\"gaalkacyo\",\"lethem\",\"mancio lima\",\"sinop\",\"muynoq\",\"zambezi\",\"obudu\",\"chabahar\",\"rottingdean\",\"mandalgovi\",\"murzuq\",\"selfoss\",\"mpika\",\"shahrak\",\"kandahar\",\"poronaysk\",\"karratha\",\"ivins\",\"miyazaki\",\"strugi-krasnyye\",\"kavaratti\",\"takoradi\",\"preobrazheniye\",\"murghob\",\"santa cruz do rio pardo\",\"zhaodong\",\"san-pedro\",\"rodolfo sanchez taboada\",\"padang\",\"abepura\",\"anka\",\"ga-rankuwa\",\"voss\",\"saint-francois\",\"cole harbour\",\"zhezqazghan\",\"polyarnyy\",\"argo\",\"shingu\",\"saint-pierre\",\"brak\",\"ambon\",\"as sulayyil\",\"yugorsk\",\"senanga\",\"ulety\",\"laguna\",\"zabol\",\"caleta de carquin\",\"fraserburgh\",\"mallow\",\"la passe\",\"sarmiento\",\"santo antonio\",\"boca suno\",\"kawerau\",\"paramonga\",\"khovd\",\"barra de santo antonio\",\"leiyang\",\"figuig (centre)\",\"lasem\",\"mamuju\",\"uyar\",\"moree\",\"porto murtinho\",\"nyrob\",\"aswan\",\"bochum\",\"hiriyur\",\"kapuskasing\",\"robore\",\"bel ombre\",\"gore\",\"birao\",\"nar'yan-mar\",\"dubbo\",\"bac lieu\",\"hobyo\",\"sokoni\",\"brookings\",\"sandnessjoen\",\"simanggang\",\"irbit\",\"chibougamau\"]],[\"size\",{\"type\":\"ndarray\",\"array\":{\"type\":\"bytes\",\"data\":\"AAAAAAAACEAk+NlwWxwiQCT42XBbHCJA26+sB7O7IEAonAXAijgiQATxbY/cqSFAB+2vZg9+IEAGU0QwBmQjQOsvN9EMUiFAw8FoBWRFFkAWBHd17i4jQIvU+o7mXiBAqPSXm3fjIUBwuC1rwcYhQIUeFbmOVBJAqPSXm3fjEUAWBHd17i4jQOPT1iHIjCFAp1ZUWfzCIkAJ0I7N/ZwgQEAFsZeMSSNA6y830QxSIUCqTFjoerYbQGcT/u5V5iNAqympMCsUI0BABbGXjEkjQBJPjev7fh9AAAAAAAAAIEAH7a9mD34gQDR4M7kXjCJAfsQjLEL5IkAAAAAAAAAiQGcT/u5V5iNABlNEMAZkI0AA/5+ZzJwZQNuvrAezuyBAEk+N6/t+H0Dj09YhyIwhQATxbY/cqSFANHgzuReMIkAJ0I7N/ZwgQGcT/u5V5iNAp1ZUWfzCIkDzWWFEK9gcQNuvrAezuyBA81lhRCvYDEAWBHd17i4jQBJPjev7fh9AqPSXm3fjIUAG+5VNMNogQOsvN9EMUiFA6y830QxSIUAGU0QwBmQjQNuvrAezuyBAJPjZcFscIkAST43r+34fQKspqTArFCNAw8FoBWRFFkBTW9o6WEwZQIUeFbmOVCJA9i8SX2VlFEBwuC1rwcYhQNuvrAezuyBAXM9WzAczHkBwuC1rwcYhQPlNZDSDbyFAKJwFwIo4IkDY4arvL6odQKpMWOh6tgtAQAWxl4xJI0DZbN/MdvggQOaTNbgwbBtA/O5jaTPVGkAonAXAijgiQIUeFbmOVCJAB+2vZg9+IECAOUIu3MgUQEAFsZeMSSNATgE3+mM0IUDNO39mnqAWQFzPVswHMx5A26+sB7O7IEBOATf6YzQhQAAAAAAAAAhAKJwFwIo4IkCo9Jebd+MhQHC4LWvBxiFAAAAAAAAAIkCPpTbSregVQC4hCRSOmCNAqPSXm3fjIUCFHhW5jlQiQAnQjs39nCBATgE3+mM0IUCo9Jebd+MRQOPT1iHIjCFAAAAAAAAAHECnVlRZ/MIiQGcT/u5V5iNA6vjSqX8qBUAAAAAAAAAgQGh0TheyPR9A5tIsOp6nIkBABbGXjEkjQAb7lU0w2iBA81lhRCvYDEAAAAAAAAAgQKdWVFn8wiJAhR4VuY5UIkBfdbx+v78fQFNUr5mKzCNAWQb3JFyoGEBBh2LGMt4iQAAAAAAAACBA2k5Psd77HkAonAXAijgiQAZTRDAGZCNALiEJFI6YI0CjFK6ohxYhQNls38x2+CBA0LphP+AfIECK01rB4PoYQE4BN/pjNCFAaHROF7I9H0AMuDb2gT8gQDR4M7kXjCJA8NBioW76FkBfdbx+v78fQEAFsZeMSSNAp1ZUWfzCIkDj09YhyIwhQHC4LWvBxiFA+U1kNINvIUAtwpPREKoXQNls38x2+CBAAAAAAAAAGECjFK6ohxYhQIUeFbmOVCJAWQb3JFyoGEA0b/2TcogaQEGHYsYy3iJA6y830QxSIUDw0GKhbvoWQAftr2YPfiBAZBImSkfsGUCaLpAhaHAiQDR4M7kXjCJAcLgta8HGIUA0eDO5F4wiQC4hCRSOmANAYlZjfZ2yI0BodE4Xsj0fQKj0l5t34yFAAAAAAAAAIEDrLzfRDFIhQFkG9yRcqBhAX3W8fr+/H0BwuC1rwcYhQAAAAAAAABxAqkxY6Hq2C0AJ0I7N/ZwgQC4hCRSOmCNAcLgta8HGIUAonAXAijgiQMPBaAVkRRZAzTt/Zp6gBkBZBvckXKgYQHDEnTmNdh5A2WzfzHb4IEBZBvckXKgYQKj0l5t34yFAQAWxl4xJI0DrLzfRDFIhQOaTNbgwbBtAYKEdKtE6GkBnE/7uVeYjQKj0l5t34yFAoqOzDeVSF0AAAAAAAAAkQKGVD9RbfiNABlNEMAZkI0Dj09YhyIwhQCicBcCKOCJA0LphP+AfIEBgoR0q0ToaQHC4LWvBxiFAFgR3de4uI0BOATf6YzQhQAZTRDAGZCNAcLgta8HGIUAonAXAijgiQOsvN9EMUiFAqPSXm3fjIUAH7a9mD34gQObSLDqepyJAKJwFwIo4IkDACh8AxkgcQBYEd3XuLiNA6ft2INUeHUAAAAAAAAAgQC4hCRSOmCNA2WzfzHb4IEAGU0QwBmQjQAAAAAAAABhA5tIsOp6nIkDDwWgFZEUWQGcT/u5V5iNANHgzuReMIkCFHhW5jlQiQAAAAAAAABxAQAWxl4xJI0AGU0QwBmQjQKdWVFn8wiJA6ft2INUeHUCPpTbSregVQAZTRDAGZCNAB+2vZg9+IEDGsQ0e1WQdQAnQjs39nCBAAAAAAAAAJEDGsQ0e1WQdQKj0l5t34yFANHgzuReMIkAST43r+34fQDncY7O/VBhAzTt/Zp6gFkAST43r+34fQHC4LWvBxiFAWQb3JFyoGECjFK6ohxYhQEAFsZeMSSNA5tIsOp6nIkDZbN/MdvggQAftr2YPfiBAAAAAAAAAIEBJP2gR6u4dQH7EIyxC+SJAhR4VuY5UIkA0eDO5F4wiQCT42XBbHCJA5tIsOp6nIkAAAAAAAAAgQOPT1iHIjCFAAP+fmcycGUBnE/7uVeYjQKGVD9RbfiNAU1SvmYrMI0AGU0QwBmQjQGcT/u5V5iNAqkxY6Hq2G0AH7a9mD34gQKj0l5t34yFAoxSuqIcWIUBOATf6YzQhQAnQjs39nCBA49PWIciMIUDQumE/4B8gQJoukCFocCJATgE3+mM0IUDm0iw6nqciQKMUrqiHFiFALiEJFI6YI0BodE4Xsj0fQAftr2YPfiBATgE3+mM0IUDm0iw6nqciQOsvN9EMUiFAhR4VuY5UIkBwuC1rwcYhQAAAAAAAACBATgE3+mM0IUDbnltFfrkeQM5DLZ3SkBxA9i8SX2VlFEAAAAAAAAAgQDR4M7kXjCJABvuVTTDaIEBABbGXjEkjQHC4LWvBxiFADLg29oE/IEBABbGXjEkjQKj0l5t34yFAYlZjfZ2yI0AAAAAAAAAkQCT42XBbHCJAAAAAAAAAIEBJP2gR6u4dQAAAAAAAABhA8NBioW76FkDbr6wHs7sgQPDQYqFu+hZANG/9k3KIGkBOATf6YzQhQM5DLZ3SkBxATgE3+mM0IUBnE/7uVeYjQAnQjs39nCBABvuVTTDaIEAAAAAAAAAgQKdWVFn8wiJAcLgta8HGIUBiVmN9nbIjQAAAAAAAACRA2k5Psd77HkB+xCMsQvkiQFNb2jpYTAlAST9oEeruDUDZbN/MdvggQEGHYsYy3iJA26+sB7O7IEDQumE/4B8gQOaTNbgwbBtA6y830QxSIUA0b/2TcogaQH7EIyxC+SJAp1ZUWfzCIkBBh2LGMt4iQC4hCRSOmCNAOdxjs79UGEAWBHd17i4jQCT42XBbHCJAhR4VuY5UEkCio7MN5VIXQEAFsZeMSSNALcKT0RCqF0AuIQkUjpgjQNls38x2+CBAU1vaOlhMGUDbr6wHs7sgQAAAAAAAACBAJPjZcFscIkAonAXAijgiQATxbY/cqSFAxrENHtVkHUCnVlRZ/MIiQF91vH6/vx9A81lhRCvYHEDrLzfRDFIhQATxbY/cqSFA/O5jaTPVGkBOATf6YzQhQFzPVswHMx5A+U1kNINvIUAAAAAAAAAkQAAAAAAAACBA+U1kNINvIUAWBHd17i4jQIUeFbmOVCJADLg29oE/IEAWBHd17i4jQCicBcCKOCJAw8FoBWRFFkDm0iw6nqciQBJPjev7fh9AZBImSkfsGUCo9Jebd+MhQKMUrqiHFiFA5tIsOp6nIkAAAAAAAAAUQHDEnTmNdh5AAAAAAAAAJEBnE/7uVeYjQAAAAAAAABxAQYdixjLeIkAAAAAAAAAUQKGVD9RbfiNAOdxjs79UGECaLpAhaHAiQMaxDR7VZB1A0LphP+AfIEDDwWgFZEUWQIA5Qi7cyBRATgE3+mM0IUDrLzfRDFIhQFzPVswHMx5AAAAAAAAAJECaLpAhaHAiQNpOT7He+w5AEk+N6/t+H0D87mNpM9UaQAZTRDAGZCNAQAWxl4xJI0BABbGXjEkjQDR4M7kXjCJA8NBioW76FkAG+5VNMNogQIUeFbmOVCJAoxSuqIcWIUAGU0QwBmQjQObSLDqepyJAi9T6juZeIEAk+NlwWxwiQMaxDR7VZB1Ami6QIWhwIkDZbN/MdvggQHC4LWvBxiFA255bRX65HkAuIQkUjpgTQBYEd3XuLiNAJPjZcFscIkBwuC1rwcYhQI+lNtKt6BVA26+sB7O7IEDQumE/4B8gQCicBcCKOCJAAAAAAAAAEEBodE4Xsj0fQKdWVFn8wiJAitNaweD6GEBJP2gR6u4dQFNb2jpYTAlAaHROF7I9H0AuIQkUjpgjQAnQjs39nCBA2WzfzHb4EEBBh2LGMt4iQH7EIyxC+SJAp1ZUWfzCIkCAOUIu3MgUQKGVD9RbfiNA6vjSqX8qFUChlQ/UW34jQFNUr5mKzCNAU1SvmYrMI0A0eDO5F4wiQKspqTArFCNAQYdixjLeIkAH7a9mD34gQF91vH6/vx9A6y830QxSIUCo9Jebd+MhQKdWVFn8whJA2k5Psd77HkDbr6wHs7sgQNpOT7He+x5AZxP+7lXmI0DmkzW4MGwbQM07f2aeoAZANHgzuReMIkAWBHd17i4jQOPT1iHIjCFA6y830QxSIUBBh2LGMt4iQCT42XBbHCJA+U1kNINvIUCK01rB4PoYQJoukCFocCJAj6U20q3oFUD5TWQ0g28RQC3Ck9EQqhdA89mopGiKFUAAAAAAAAAkQBYEd3XuLhNACdCOzf2cIECFHhW5jlQiQNuvrAezuyBA5tIsOp6nIkCL1PqO5l4gQPDQYqFu+hZAFgR3de4uI0BOATf6YzQhQAftr2YPfhBAitNaweD6GEAAAAAAAAAiQAAAAAAAACBAAAAAAAAAEEDQumE/4B8gQKj0l5t34xFAFgR3de4uI0AAAAAAAAAiQNC6YT/gHyBA6y830QxSIUDz2aikaIoVQGJWY32dsiNAAAAAAAAAGEDbr6wHs7sgQAAAAAAAACJAhR4VuY5UIkDw0GKhbvoWQBJPjev7fh9AEk+N6/t+H0BZBvckXKgYQAAAAAAAACBA5tIsOp6nIkDrLzfRDFIhQDR4M7kXjCJAoxSuqIcWIUDz2aikaIoVQATxbY/cqSFAaHROF7I9H0BBh2LGMt4iQAAAAAAAACRA/O5jaTPVGkDmkzW4MGwbQPNZYUQr2BxAfsQjLEL5IkDaTk+x3vseQEAFsZeMSSNAoqOzDeVSF0CAOUIu3MgUQKMUrqiHFiFAqPSXm3fjIUAAAAAAAAAUQEk/aBHq7g1AST9oEeruHUDq+NKpfyoVQBYEd3XuLhNA/O5jaTPVGkA53GOzv1QYQAftr2YPfiBAhR4VuY5UIkAAAAAAAAAiQAAAAAAAABhA0LphP+AfIEDaTk+x3vsOQKdWVFn8wiJAoxSuqIcWIUAE8W2P3KkhQEGHYsYy3iJAI9BwHBshG0BZBvckXKgYQBYEd3XuLiNAAAAAAAAAJECrKakwKxQjQCPQcBwbIRtAmi6QIWhwIkBfdbx+v78fQC3Ck9EQqhdA0LphP+AfIECqTFjoerYbQE4BN/pjNCFAw8FoBWRFFkChlQ/UW34jQAAAAAAAABhAitNaweD6GEDDwWgFZEUWQPlNZDSDbxFAqympMCsUI0B+xCMsQvkiQAZTRDAGZCNAp1ZUWfzCIkAH7a9mD34gQC4hCRSOmCNAU1SvmYrMI0Dbr6wHs7sgQKspqTArFCNA89mopGiKFUCaLpAhaHAiQEAFsZeMSSNA+U1kNINvEUAMuDb2gT8gQAAAAAAAACJAU1vaOlhMGUAA/5+ZzJwZQKMUrqiHFiFAqPSXm3fjIUDaTk+x3vsOQObSLDqepyJAzTt/Zp6gFkDrLzfRDFIhQEGHYsYy3iJAKJwFwIo4IkAAAAAAAAAiQPNZYUQr2AxAp1ZUWfzCIkAAAAAAAAAcQHDEnTmNdh5A0LphP+AfIEDm0iw6nqciQJoukCFocCJAmi6QIWhwIkDbnltFfrkeQJoukCFocCJA26+sB7O7IEA=\"},\"shape\":[574],\"dtype\":\"float64\",\"order\":\"little\"}]]}}},\"view\":{\"type\":\"object\",\"name\":\"CDSView\",\"id\":\"p1192\",\"attributes\":{\"filter\":{\"type\":\"object\",\"name\":\"AllIndices\",\"id\":\"p1193\"}}},\"glyph\":{\"type\":\"object\",\"name\":\"Scatter\",\"id\":\"p1186\",\"attributes\":{\"tags\":[\"apply_ranges\"],\"x\":{\"type\":\"field\",\"field\":\"Lng\"},\"y\":{\"type\":\"field\",\"field\":\"Lat\"},\"size\":{\"type\":\"field\",\"field\":\"size\"},\"line_color\":{\"type\":\"field\",\"field\":\"color\",\"transform\":{\"type\":\"object\",\"name\":\"CategoricalColorMapper\",\"id\":\"p1179\",\"attributes\":{\"palette\":[\"#1f77b3\",\"#ff7e0e\",\"#2ba02b\",\"#d62628\",\"#9367bc\",\"#8c564b\",\"#e277c1\",\"#7e7e7e\",\"#bcbc21\",\"#16bdcf\",\"#3a0182\",\"#004201\",\"#0fffa8\",\"#5d003f\",\"#bcbcff\",\"#d8afa1\",\"#b80080\",\"#004d52\",\"#6b6400\",\"#7c0100\",\"#6026ff\",\"#ffff9a\",\"#564964\",\"#8cb893\",\"#93fbff\",\"#018267\",\"#90ff00\",\"#8200a0\",\"#ac8944\",\"#5b3400\",\"#ffbff2\",\"#ff6e75\",\"#798cff\",\"#dd00ff\",\"#505646\",\"#004489\",\"#ffbf60\",\"#ff018c\",\"#bdc8cf\",\"#af97b5\",\"#b65600\",\"#017000\",\"#cd87ff\",\"#1cd646\",\"#bfebc3\",\"#7997b5\",\"#a56089\",\"#6e8956\",\"#bc7c75\",\"#8a2844\",\"#00acff\",\"#8ed4ff\",\"#4b6d77\",\"#00d4b1\",\"#9300f2\",\"#8a9500\",\"#5d5b9e\",\"#fddfba\",\"#00939e\",\"#ffdb00\",\"#00aa79\",\"#520067\",\"#000091\",\"#0a5d3d\",\"#a5e275\",\"#623b41\",\"#c6c689\",\"#ff9eb5\",\"#cd4f6b\",\"#ff07d6\",\"#8a3a05\",\"#7e3d70\",\"#ff4901\",\"#602ba5\",\"#1c00ff\",\"#e6dfff\",\"#aa3baf\",\"#d89c00\",\"#a3a39e\",\"#3f69ff\",\"#46490c\",\"#7b6985\",\"#6b978c\",\"#ff9a75\",\"#835bff\",\"#7c6b46\",\"#80b654\",\"#bc0049\",\"#fd93ff\",\"#5d0018\",\"#89d1d1\",\"#9c8cd3\",\"#da6d42\",\"#8a5700\",\"#3b5069\",\"#4b6b3b\",\"#edcfd8\",\"#cfedff\",\"#aa1500\",\"#dfff4f\",\"#ff2a56\",\"#d1499e\",\"#707cb8\",\"#598000\",\"#00e4fd\",\"#774b95\",\"#67d48c\",\"#3d3a72\",\"#ac413f\",\"#d6a166\",\"#c169cd\",\"#69595d\",\"#87aced\",\"#a0a569\",\"#d1aae6\",\"#870062\",\"#00fddb\",\"#672818\",\"#b342ff\",\"#0e59c4\",\"#168742\",\"#90d300\",\"#cd7900\",\"#f959ff\",\"#5b7466\",\"#8eaeb3\",\"#9c7c8c\",\"#4600c6\",\"#6b4d2d\",\"#a56d46\",\"#9e8972\",\"#a8afca\",\"#cd8ca7\",\"#00fd64\",\"#917900\",\"#ff62a1\",\"#f4ffd8\",\"#018cf0\",\"#13aca0\",\"#5b2d59\",\"#89859e\",\"#cfccba\",\"#d4afc4\",\"#dbdd6d\",\"#cffff4\",\"#006485\",\"#006962\",\"#a84167\",\"#2d97c4\",\"#a874ff\",\"#26ba5d\",\"#57b600\",\"#caffa7\",\"#a379aa\",\"#ffbc93\",\"#89e2c1\",\"#0fc8ff\",\"#d400c4\",\"#626d89\",\"#69858e\",\"#4b4d52\",\"#aa6067\",\"#79b5d4\",\"#2b5916\",\"#9a0024\",\"#bdd1f2\",\"#896e67\",\"#69a56b\",\"#855467\",\"#aecdba\",\"#87997e\",\"#cadb00\",\"#9a0390\",\"#ebbc1a\",\"#eb9cd1\",\"#70006e\",\"#b1a131\",\"#ca6b93\",\"#4146a3\",\"#e48c89\",\"#d44400\",\"#c68aca\",\"#b69597\",\"#d41f75\",\"#724bcc\",\"#674d00\",\"#672138\",\"#38564f\",\"#6ebaaa\",\"#853a31\",\"#a5d397\",\"#b8af8e\",\"#d8e4df\",\"#aa00df\",\"#cac1db\",\"#ffdf8c\",\"#e2524d\",\"#66696e\",\"#ff001c\",\"#522d72\",\"#4d906b\",\"#a86d11\",\"#ff9e26\",\"#5ea3af\",\"#c88556\",\"#915997\",\"#a3a1ff\",\"#fdbaba\",\"#242a87\",\"#dbe6a8\",\"#97f2a7\",\"#6793d6\",\"#ba5b3f\",\"#3a5d91\",\"#364f2f\",\"#267c95\",\"#89959a\",\"#cfb356\",\"#004664\",\"#5e5d2f\",\"#8e8e41\",\"#ac3f13\",\"#69953b\",\"#a13d85\",\"#bfb6ba\",\"#acc667\",\"#6469cf\",\"#91af00\",\"#2be2da\",\"#016e36\",\"#ff7952\",\"#42807e\",\"#4fe800\",\"#995428\",\"#5d0a00\",\"#a30057\",\"#0c8700\",\"#5982a7\",\"#ffebfb\",\"#4b6901\",\"#8775d4\",\"#e6c6ff\",\"#a5ffda\",\"#d86e77\",\"#df014b\",\"#69675b\",\"#776ba1\",\"#7e8067\",\"#594685\",\"#0000ca\",\"#7c002a\",\"#97ff72\",\"#b5e2e1\",\"#db52c8\",\"#777734\",\"#57bd8e\",\"#1f77b3\",\"#ff7e0e\",\"#2ba02b\",\"#d62628\",\"#9367bc\",\"#8c564b\",\"#e277c1\",\"#7e7e7e\",\"#bcbc21\",\"#16bdcf\",\"#3a0182\",\"#004201\",\"#0fffa8\",\"#5d003f\",\"#bcbcff\",\"#d8afa1\",\"#b80080\",\"#004d52\",\"#6b6400\",\"#7c0100\",\"#6026ff\",\"#ffff9a\",\"#564964\",\"#8cb893\",\"#93fbff\",\"#018267\",\"#90ff00\",\"#8200a0\",\"#ac8944\",\"#5b3400\",\"#ffbff2\",\"#ff6e75\",\"#798cff\",\"#dd00ff\",\"#505646\",\"#004489\",\"#ffbf60\",\"#ff018c\",\"#bdc8cf\",\"#af97b5\",\"#b65600\",\"#017000\",\"#cd87ff\",\"#1cd646\",\"#bfebc3\",\"#7997b5\",\"#a56089\",\"#6e8956\",\"#bc7c75\",\"#8a2844\",\"#00acff\",\"#8ed4ff\",\"#4b6d77\",\"#00d4b1\",\"#9300f2\",\"#8a9500\",\"#5d5b9e\",\"#fddfba\",\"#00939e\",\"#ffdb00\",\"#00aa79\",\"#520067\",\"#000091\",\"#0a5d3d\",\"#a5e275\",\"#623b41\",\"#c6c689\",\"#ff9eb5\",\"#cd4f6b\",\"#ff07d6\",\"#8a3a05\",\"#7e3d70\",\"#ff4901\",\"#602ba5\",\"#1c00ff\",\"#e6dfff\",\"#aa3baf\",\"#d89c00\",\"#a3a39e\",\"#3f69ff\",\"#46490c\",\"#7b6985\",\"#6b978c\",\"#ff9a75\",\"#835bff\",\"#7c6b46\",\"#80b654\",\"#bc0049\",\"#fd93ff\",\"#5d0018\",\"#89d1d1\",\"#9c8cd3\",\"#da6d42\",\"#8a5700\",\"#3b5069\",\"#4b6b3b\",\"#edcfd8\",\"#cfedff\",\"#aa1500\",\"#dfff4f\",\"#ff2a56\",\"#d1499e\",\"#707cb8\",\"#598000\",\"#00e4fd\",\"#774b95\",\"#67d48c\",\"#3d3a72\",\"#ac413f\",\"#d6a166\",\"#c169cd\",\"#69595d\",\"#87aced\",\"#a0a569\",\"#d1aae6\",\"#870062\",\"#00fddb\",\"#672818\",\"#b342ff\",\"#0e59c4\",\"#168742\",\"#90d300\",\"#cd7900\",\"#f959ff\",\"#5b7466\",\"#8eaeb3\",\"#9c7c8c\",\"#4600c6\",\"#6b4d2d\",\"#a56d46\",\"#9e8972\",\"#a8afca\",\"#cd8ca7\",\"#00fd64\",\"#917900\",\"#ff62a1\",\"#f4ffd8\",\"#018cf0\",\"#13aca0\",\"#5b2d59\",\"#89859e\",\"#cfccba\",\"#d4afc4\",\"#dbdd6d\",\"#cffff4\",\"#006485\",\"#006962\",\"#a84167\",\"#2d97c4\",\"#a874ff\",\"#26ba5d\",\"#57b600\",\"#caffa7\",\"#a379aa\",\"#ffbc93\",\"#89e2c1\",\"#0fc8ff\",\"#d400c4\",\"#626d89\",\"#69858e\",\"#4b4d52\",\"#aa6067\",\"#79b5d4\",\"#2b5916\",\"#9a0024\",\"#bdd1f2\",\"#896e67\",\"#69a56b\",\"#855467\",\"#aecdba\",\"#87997e\",\"#cadb00\",\"#9a0390\",\"#ebbc1a\",\"#eb9cd1\",\"#70006e\",\"#b1a131\",\"#ca6b93\",\"#4146a3\",\"#e48c89\",\"#d44400\",\"#c68aca\",\"#b69597\",\"#d41f75\",\"#724bcc\",\"#674d00\",\"#672138\",\"#38564f\",\"#6ebaaa\",\"#853a31\",\"#a5d397\",\"#b8af8e\",\"#d8e4df\",\"#aa00df\",\"#cac1db\",\"#ffdf8c\",\"#e2524d\",\"#66696e\",\"#ff001c\",\"#522d72\",\"#4d906b\",\"#a86d11\",\"#ff9e26\",\"#5ea3af\",\"#c88556\",\"#915997\",\"#a3a1ff\",\"#fdbaba\",\"#242a87\",\"#dbe6a8\",\"#97f2a7\",\"#6793d6\",\"#ba5b3f\",\"#3a5d91\",\"#364f2f\",\"#267c95\",\"#89959a\",\"#cfb356\",\"#004664\",\"#5e5d2f\",\"#8e8e41\",\"#ac3f13\",\"#69953b\",\"#a13d85\",\"#bfb6ba\",\"#acc667\",\"#6469cf\",\"#91af00\",\"#2be2da\",\"#016e36\",\"#ff7952\",\"#42807e\",\"#4fe800\",\"#995428\",\"#5d0a00\",\"#a30057\",\"#0c8700\",\"#5982a7\",\"#ffebfb\",\"#4b6901\",\"#8775d4\",\"#e6c6ff\",\"#a5ffda\",\"#d86e77\",\"#df014b\",\"#69675b\",\"#776ba1\",\"#7e8067\",\"#594685\",\"#0000ca\",\"#7c002a\",\"#97ff72\",\"#b5e2e1\",\"#db52c8\",\"#777734\",\"#57bd8e\",\"#1f77b3\",\"#ff7e0e\",\"#2ba02b\",\"#d62628\",\"#9367bc\",\"#8c564b\",\"#e277c1\",\"#7e7e7e\",\"#bcbc21\",\"#16bdcf\",\"#3a0182\",\"#004201\",\"#0fffa8\",\"#5d003f\",\"#bcbcff\",\"#d8afa1\",\"#b80080\",\"#004d52\",\"#6b6400\",\"#7c0100\",\"#6026ff\",\"#ffff9a\",\"#564964\",\"#8cb893\",\"#93fbff\",\"#018267\",\"#90ff00\",\"#8200a0\",\"#ac8944\",\"#5b3400\",\"#ffbff2\",\"#ff6e75\",\"#798cff\",\"#dd00ff\",\"#505646\",\"#004489\",\"#ffbf60\",\"#ff018c\",\"#bdc8cf\",\"#af97b5\",\"#b65600\",\"#017000\",\"#cd87ff\",\"#1cd646\",\"#bfebc3\",\"#7997b5\",\"#a56089\",\"#6e8956\",\"#bc7c75\",\"#8a2844\",\"#00acff\",\"#8ed4ff\",\"#4b6d77\",\"#00d4b1\",\"#9300f2\",\"#8a9500\",\"#5d5b9e\",\"#fddfba\",\"#00939e\",\"#ffdb00\",\"#00aa79\",\"#520067\"],\"factors\":[\"kidal\",\"port elizabeth\",\"tiksi\",\"west island\",\"wailua homesteads\",\"adamstown\",\"udachny\",\"avarua\",\"invercargill\",\"balangir\",\"sao joao da barra\",\"petropavlovsk-kamchatsky\",\"bilibino\",\"bari\",\"al mindak\",\"erenhot\",\"olonkinbyen\",\"albany\",\"iskateley\",\"grytviken\",\"livingston\",\"la sarre\",\"kingston upon hull\",\"rabo de peixe\",\"stanley\",\"blackmans bay\",\"georgetown\",\"melenki\",\"lospalos\",\"port-aux-francais\",\"waitangi\",\"punta arenas\",\"port alfred\",\"margate\",\"mersa matruh\",\"bodo\",\"yellowknife\",\"utrik\",\"ola\",\"ushuaia\",\"kodiak\",\"puerto natales\",\"inarajan village\",\"tsiroanomandidy\",\"atafu village\",\"island harbour\",\"hawaiian paradise park\",\"madalena\",\"hermanus\",\"aldama\",\"bikenibeu village\",\"nova sintra\",\"fortuna\",\"dryden\",\"lihue\",\"montevideo\",\"chonchi\",\"urumqi\",\"paphos\",\"robertsport\",\"myanaung\",\"isafjordur\",\"tibanbang\",\"nadi\",\"talnakh\",\"paita\",\"mejit\",\"laascaanood\",\"choibalsan\",\"coquimbo\",\"porangatu\",\"carnarvon\",\"badger\",\"mogadishu\",\"bonthe\",\"edinburgh of the seven seas\",\"amursk\",\"miles city\",\"papatowai\",\"klyuchi\",\"kone\",\"broken hill\",\"tvoroyri\",\"al bawiti\",\"bathsheba\",\"papao\",\"iqaluit\",\"aasiaat\",\"qamdo\",\"ilulissat\",\"vimmerby\",\"formosa do rio preto\",\"nuuk\",\"port mathurin\",\"urzhar\",\"westport\",\"al jubayl\",\"callao\",\"las tablas\",\"taoudenni\",\"waingapu\",\"porbandar\",\"ribeira grande\",\"arraial do cabo\",\"mersing\",\"goure\",\"stephenville\",\"inongo\",\"ouesso\",\"celestun\",\"sao paulo de olivenca\",\"margaret river\",\"dudinka\",\"tuy hoa\",\"tsiombe\",\"tolanaro\",\"pisco\",\"santa elena de uairen\",\"kudahuvadhoo\",\"arica\",\"thompson\",\"sur\",\"farafangana\",\"mahajanga\",\"hakodate\",\"mangalia\",\"kegen\",\"hassi messaoud\",\"daru\",\"port isabel\",\"constantia\",\"kingston\",\"luderitz\",\"onguday\",\"fale old settlement\",\"sarupathar\",\"pacific grove\",\"lazaro cardenas\",\"fengkou\",\"mammoth lakes\",\"rancho palos verdes\",\"forster\",\"kobayashi\",\"puli\",\"amga\",\"aripuana\",\"tazovsky\",\"bethel\",\"crolles\",\"dongola\",\"puerto ayora\",\"thunder bay\",\"la'ie\",\"happy valley-goose bay\",\"egilsstadir\",\"igatpuri\",\"wuchuan\",\"palikir - national government center\",\"taguatinga\",\"faya-largeau\",\"bubaque\",\"dawesville\",\"enewetak\",\"boende\",\"tura\",\"timbuktu\",\"alice springs\",\"ghadamis\",\"ancud\",\"ouahigouya\",\"kruisfontein\",\"ketchikan\",\"kamaishi\",\"queenstown\",\"cabo san lucas\",\"igarka\",\"tofol\",\"douentza\",\"east london\",\"vilyuysk\",\"nouadhibou\",\"adler\",\"jayapura\",\"dolores\",\"strathmore\",\"afaahiti\",\"kolonia\",\"olanchito\",\"praia da vitoria\",\"ontario\",\"formosa\",\"aykhal\",\"ta`u\",\"susuman\",\"horta\",\"kapa'a\",\"whitehorse\",\"acarau\",\"katsuren-haebaru\",\"ballina\",\"quesada\",\"qaqortoq\",\"remire-montjoly\",\"smara\",\"morant bay\",\"berezovyy\",\"mendi\",\"lompoc\",\"kirakira\",\"tazacorte\",\"san patricio\",\"matoury\",\"bredasdorp\",\"santyoku\",\"kedrovka\",\"sitka\",\"kaihua\",\"opuwo\",\"labrador city\",\"olinda\",\"portland\",\"sisimiut\",\"lagos\",\"barcelos\",\"fort mcmurray\",\"bethanie\",\"hadibu\",\"kuta\",\"rebrikha\",\"tete\",\"carutapera\",\"murashi\",\"pointe aux piments\",\"bowen\",\"lucapa\",\"revda\",\"san bernardo del viento\",\"aur\",\"san antonio de pale\",\"porto santo stefano\",\"taber\",\"villa gesell\",\"ulladulla\",\"newman\",\"retreat\",\"kpalime\",\"rechka-vydrino\",\"essaouira\",\"paray-le-monial\",\"koumra\",\"meulaboh\",\"boguchany\",\"christchurch\",\"korem\",\"macau\",\"mao\",\"kanniyakumari\",\"lebu\",\"caburan\",\"pacasmayo\",\"kulhudhuffushi\",\"northam\",\"port-vila\",\"madras\",\"rosolina\",\"mtama\",\"sarangani\",\"gadzhiyevo\",\"crescent city\",\"longyearbyen\",\"cockburn town\",\"ust-nera\",\"upington\",\"sao vicente\",\"howard springs\",\"freetown\",\"champagnole\",\"la romana\",\"haiku-pauwela\",\"bintulu\",\"hilo\",\"navia\",\"pinheiro\",\"sao mateus\",\"nyurba\",\"kerikeri\",\"kirovsk\",\"rakops\",\"bulgan\",\"kloulklubed\",\"ghanzi\",\"kaa-khem\",\"vorgashor\",\"college\",\"inyonga\",\"carauari\",\"basco\",\"bambanglipuro\",\"kolwezi\",\"sarigerme\",\"walvis bay\",\"kiunga\",\"santa cruz\",\"las palmas\",\"meadow lakes\",\"barkhan\",\"zhob\",\"hachinohe\",\"puerto baquerizo moreno\",\"sabang\",\"cloquet\",\"juegang\",\"hithadhoo\",\"tanah merah\",\"gamba\",\"sona\",\"kourou\",\"peterhead\",\"peace river\",\"coruripe\",\"enshi\",\"arar\",\"fort st. john\",\"comodoro rivadavia\",\"kosh-agach\",\"urengoy\",\"gisborne\",\"wenchang\",\"vilyuchinsk\",\"port lincoln\",\"mili\",\"guerrero negro\",\"rongelap\",\"synel'nykove\",\"nkpor\",\"san german\",\"wucheng\",\"ixtapa\",\"xai-xai\",\"madugula\",\"medicine hat\",\"okha\",\"uturoa\",\"alofi\",\"katsuura\",\"zaraza\",\"colonia\",\"wewak\",\"kudat\",\"arawa\",\"boa vista\",\"kununurra\",\"sooke\",\"saipan\",\"illizi\",\"holmsund\",\"tawau\",\"broome\",\"ar rutbah\",\"codrington\",\"carmarthen\",\"ivdel'\",\"mount gambier\",\"ascension\",\"karagandy\",\"khandyga\",\"kurchum\",\"marquette\",\"suntar\",\"douglas\",\"borujen\",\"lianshan\",\"flying fish cove\",\"keflavik\",\"isangel\",\"inhambane\",\"imbituba\",\"chita\",\"mumbai\",\"bahia de kino\",\"egersund\",\"juneau\",\"jamestown\",\"axim\",\"san juan\",\"loukhi\",\"manokwari\",\"polyarnyye zori\",\"st. john's\",\"morehead city\",\"anadyr\",\"port douglas\",\"nema\",\"hamilton\",\"chipinge\",\"saudarkrokur\",\"bereeda\",\"hami\",\"roma\",\"sarakhs\",\"san fernando de apure\",\"bhigvan\",\"akureyri\",\"flin flon\",\"new norfolk\",\"aleg\",\"bawku\",\"greenville\",\"shakawe\",\"itoman\",\"shache\",\"bulawayo\",\"maues\",\"san juan de los morros\",\"tindouf\",\"kovdor\",\"blaj\",\"lichinga\",\"laojunmiao\",\"puerto armuelles\",\"selibaby\",\"sao felix do xingu\",\"conceicao do coite\",\"lerwick\",\"morristown\",\"esmeraldas\",\"nova vicosa\",\"cuamba\",\"le port\",\"san luis de la loma\",\"chokwe\",\"bakanas\",\"al ghayzah\",\"midvagur\",\"namibe\",\"fougamou\",\"chegdomyn\",\"sahiwal\",\"weno\",\"labytnangi\",\"sterling\",\"tual\",\"usinsk\",\"magadan\",\"piti village\",\"ulsan\",\"cabedelo\",\"lichtenburg\",\"timimoun\",\"karasuk\",\"la junta\",\"saint john\",\"loikaw\",\"vadso\",\"bereznik\",\"howrah\",\"santa vitoria do palmar\",\"sinabang\",\"dogonbadan\",\"kyenjojo\",\"dunedin\",\"crane\",\"sosnovoborsk\",\"porto novo\",\"san ramon de la nueva oran\",\"mogocha\",\"prata\",\"ouadda\",\"elverum\",\"saldanha\",\"gufeng\",\"querfurt\",\"hovd\",\"gilmer\",\"priozersk\",\"nagqu\",\"anna regina\",\"san andres\",\"mariental\",\"lata\",\"bamboo flat\",\"mopti\",\"amboasary\",\"menominee\",\"arkhangel'sk\",\"sao jose da coroa grande\",\"siocon\",\"geraldton\",\"saint-philippe\",\"gaalkacyo\",\"lethem\",\"mancio lima\",\"sinop\",\"muynoq\",\"zambezi\",\"obudu\",\"chabahar\",\"rottingdean\",\"mandalgovi\",\"murzuq\",\"selfoss\",\"mpika\",\"shahrak\",\"kandahar\",\"poronaysk\",\"karratha\",\"ivins\",\"miyazaki\",\"strugi-krasnyye\",\"kavaratti\",\"takoradi\",\"preobrazheniye\",\"murghob\",\"santa cruz do rio pardo\",\"zhaodong\",\"san-pedro\",\"rodolfo sanchez taboada\",\"padang\",\"abepura\",\"anka\",\"ga-rankuwa\",\"voss\",\"saint-francois\",\"cole harbour\",\"zhezqazghan\",\"polyarnyy\",\"argo\",\"shingu\",\"saint-pierre\",\"brak\",\"ambon\",\"as sulayyil\",\"yugorsk\",\"senanga\",\"ulety\",\"laguna\",\"zabol\",\"caleta de carquin\",\"fraserburgh\",\"mallow\",\"la passe\",\"sarmiento\",\"santo antonio\",\"boca suno\",\"kawerau\",\"paramonga\",\"khovd\",\"barra de santo antonio\",\"leiyang\",\"figuig (centre)\",\"lasem\",\"mamuju\",\"uyar\",\"moree\",\"porto murtinho\",\"nyrob\",\"aswan\",\"bochum\",\"hiriyur\",\"kapuskasing\",\"robore\",\"bel ombre\",\"gore\",\"birao\",\"nar'yan-mar\",\"dubbo\",\"bac lieu\",\"hobyo\",\"sokoni\",\"brookings\",\"sandnessjoen\",\"simanggang\",\"irbit\",\"chibougamau\"]}}},\"line_alpha\":{\"type\":\"value\",\"value\":0.9},\"fill_color\":{\"type\":\"field\",\"field\":\"color\",\"transform\":{\"id\":\"p1179\"}},\"fill_alpha\":{\"type\":\"value\",\"value\":0.9},\"hatch_color\":{\"type\":\"field\",\"field\":\"color\",\"transform\":{\"id\":\"p1179\"}},\"hatch_alpha\":{\"type\":\"value\",\"value\":0.9}}},\"selection_glyph\":{\"type\":\"object\",\"name\":\"Scatter\",\"id\":\"p1188\",\"attributes\":{\"tags\":[\"apply_ranges\"],\"x\":{\"type\":\"field\",\"field\":\"Lng\"},\"y\":{\"type\":\"field\",\"field\":\"Lat\"},\"size\":{\"type\":\"field\",\"field\":\"size\"},\"line_color\":{\"type\":\"field\",\"field\":\"color\",\"transform\":{\"id\":\"p1179\"}},\"line_alpha\":{\"type\":\"value\",\"value\":0.9},\"fill_color\":{\"type\":\"field\",\"field\":\"color\",\"transform\":{\"id\":\"p1179\"}},\"fill_alpha\":{\"type\":\"value\",\"value\":0.9},\"hatch_color\":{\"type\":\"field\",\"field\":\"color\",\"transform\":{\"id\":\"p1179\"}},\"hatch_alpha\":{\"type\":\"value\",\"value\":0.9}}},\"nonselection_glyph\":{\"type\":\"object\",\"name\":\"Scatter\",\"id\":\"p1187\",\"attributes\":{\"tags\":[\"apply_ranges\"],\"x\":{\"type\":\"field\",\"field\":\"Lng\"},\"y\":{\"type\":\"field\",\"field\":\"Lat\"},\"size\":{\"type\":\"field\",\"field\":\"size\"},\"line_color\":{\"type\":\"field\",\"field\":\"color\",\"transform\":{\"id\":\"p1179\"}},\"line_alpha\":{\"type\":\"value\",\"value\":0.9},\"fill_color\":{\"type\":\"field\",\"field\":\"color\",\"transform\":{\"id\":\"p1179\"}},\"fill_alpha\":{\"type\":\"value\",\"value\":0.9},\"hatch_color\":{\"type\":\"field\",\"field\":\"color\",\"transform\":{\"id\":\"p1179\"}},\"hatch_alpha\":{\"type\":\"value\",\"value\":0.1}}},\"hover_glyph\":{\"type\":\"object\",\"name\":\"Scatter\",\"id\":\"p1189\",\"attributes\":{\"tags\":[\"apply_ranges\"],\"x\":{\"type\":\"field\",\"field\":\"Lng\"},\"y\":{\"type\":\"field\",\"field\":\"Lat\"},\"size\":{\"type\":\"field\",\"field\":\"size\"},\"line_color\":{\"type\":\"field\",\"field\":\"color\",\"transform\":{\"id\":\"p1179\"}},\"line_alpha\":{\"type\":\"value\",\"value\":0.9},\"fill_color\":{\"type\":\"field\",\"field\":\"color\",\"transform\":{\"id\":\"p1179\"}},\"fill_alpha\":{\"type\":\"value\",\"value\":0.9},\"hatch_color\":{\"type\":\"field\",\"field\":\"color\",\"transform\":{\"id\":\"p1179\"}},\"hatch_alpha\":{\"type\":\"value\",\"value\":0.9}}},\"muted_glyph\":{\"type\":\"object\",\"name\":\"Scatter\",\"id\":\"p1190\",\"attributes\":{\"tags\":[\"apply_ranges\"],\"x\":{\"type\":\"field\",\"field\":\"Lng\"},\"y\":{\"type\":\"field\",\"field\":\"Lat\"},\"size\":{\"type\":\"field\",\"field\":\"size\"},\"line_color\":{\"type\":\"field\",\"field\":\"color\",\"transform\":{\"id\":\"p1179\"}},\"line_alpha\":{\"type\":\"value\",\"value\":0.2},\"fill_color\":{\"type\":\"field\",\"field\":\"color\",\"transform\":{\"id\":\"p1179\"}},\"fill_alpha\":{\"type\":\"value\",\"value\":0.2},\"hatch_color\":{\"type\":\"field\",\"field\":\"color\",\"transform\":{\"id\":\"p1179\"}},\"hatch_alpha\":{\"type\":\"value\",\"value\":0.2}}}}}],\"toolbar\":{\"type\":\"object\",\"name\":\"Toolbar\",\"id\":\"p1151\",\"attributes\":{\"tools\":[{\"type\":\"object\",\"name\":\"WheelZoomTool\",\"id\":\"p1127\",\"attributes\":{\"renderers\":\"auto\",\"zoom_on_axis\":false}},{\"type\":\"object\",\"name\":\"BoxZoomTool\",\"id\":\"p1128\",\"attributes\":{\"overlay\":{\"type\":\"object\",\"name\":\"BoxAnnotation\",\"id\":\"p1006\",\"attributes\":{\"syncable\":false,\"level\":\"overlay\",\"visible\":false,\"left\":{\"type\":\"number\",\"value\":\"nan\"},\"right\":{\"type\":\"number\",\"value\":\"nan\"},\"top\":{\"type\":\"number\",\"value\":\"nan\"},\"bottom\":{\"type\":\"number\",\"value\":\"nan\"},\"left_units\":\"canvas\",\"right_units\":\"canvas\",\"top_units\":\"canvas\",\"bottom_units\":\"canvas\",\"line_color\":\"black\",\"line_alpha\":1.0,\"line_width\":2,\"line_dash\":[4,4],\"fill_color\":\"lightgrey\",\"fill_alpha\":0.5}},\"match_aspect\":true}},{\"type\":\"object\",\"name\":\"HoverTool\",\"id\":\"p1141\",\"attributes\":{\"tags\":[\"hv_created\"],\"renderers\":[{\"id\":\"p1191\"}],\"tooltips\":[[\"Lng\",\"$x{custom}\"],[\"Lat\",\"$y{custom}\"],[\"City\",\"@{City}\"],[\"Humidity\",\"@{Humidity}\"]],\"formatters\":{\"type\":\"map\",\"entries\":[[\"$x\",{\"type\":\"object\",\"name\":\"CustomJSHover\",\"id\":\"p1196\",\"attributes\":{\"code\":\"\\n        const projections = Bokeh.require(\\\"core/util/projections\\\");\\n        const {snap_x, snap_y} = special_vars\\n        const coords = projections.wgs84_mercator.invert(snap_x, snap_y)\\n        return \\\"\\\" + (coords[0]).toFixed(4)\\n    \"}}],[\"$y\",{\"type\":\"object\",\"name\":\"CustomJSHover\",\"id\":\"p1197\",\"attributes\":{\"code\":\"\\n        const projections = Bokeh.require(\\\"core/util/projections\\\");\\n        const {snap_x, snap_y} = special_vars\\n        const coords = projections.wgs84_mercator.invert(snap_x, snap_y)\\n        return \\\"\\\" + (coords[1]).toFixed(4)\\n    \"}}]]}}},{\"type\":\"object\",\"name\":\"PanTool\",\"id\":\"p1165\"},{\"type\":\"object\",\"name\":\"ResetTool\",\"id\":\"p1166\"}],\"active_drag\":{\"id\":\"p1165\"}}},\"left\":[{\"type\":\"object\",\"name\":\"LinearAxis\",\"id\":\"p1159\",\"attributes\":{\"ticker\":{\"type\":\"object\",\"name\":\"MercatorTicker\",\"id\":\"p1169\",\"attributes\":{\"mantissas\":[1,2,5],\"dimension\":\"lat\"}},\"formatter\":{\"type\":\"object\",\"name\":\"MercatorTickFormatter\",\"id\":\"p1170\",\"attributes\":{\"dimension\":\"lat\"}},\"axis_label\":\"Latitude\",\"major_label_policy\":{\"type\":\"object\",\"name\":\"AllLabels\",\"id\":\"p1162\"}}}],\"right\":[{\"type\":\"object\",\"name\":\"Legend\",\"id\":\"p1194\",\"attributes\":{\"location\":[0,0],\"click_policy\":\"mute\",\"items\":[{\"type\":\"object\",\"name\":\"LegendItem\",\"id\":\"p1195\",\"attributes\":{\"label\":{\"type\":\"field\",\"field\":\"color\"},\"renderers\":[{\"id\":\"p1191\"}]}}]}}],\"below\":[{\"type\":\"object\",\"name\":\"LinearAxis\",\"id\":\"p1154\",\"attributes\":{\"ticker\":{\"type\":\"object\",\"name\":\"MercatorTicker\",\"id\":\"p1167\",\"attributes\":{\"mantissas\":[1,2,5],\"dimension\":\"lon\"}},\"formatter\":{\"type\":\"object\",\"name\":\"MercatorTickFormatter\",\"id\":\"p1168\",\"attributes\":{\"dimension\":\"lon\"}},\"axis_label\":\"Longitude\",\"major_label_policy\":{\"type\":\"object\",\"name\":\"AllLabels\",\"id\":\"p1157\"}}}],\"center\":[{\"type\":\"object\",\"name\":\"Grid\",\"id\":\"p1158\",\"attributes\":{\"axis\":{\"id\":\"p1154\"},\"grid_line_color\":null}},{\"type\":\"object\",\"name\":\"Grid\",\"id\":\"p1163\",\"attributes\":{\"dimension\":1,\"axis\":{\"id\":\"p1159\"},\"grid_line_color\":null}}],\"frame_width\":800,\"frame_height\":600,\"min_border_top\":10,\"min_border_bottom\":10,\"min_border_left\":10,\"min_border_right\":10,\"output_backend\":\"webgl\",\"match_aspect\":true}},{\"type\":\"object\",\"name\":\"Spacer\",\"id\":\"p1199\",\"attributes\":{\"name\":\"HSpacer01844\",\"stylesheets\":[\"\\n:host(.pn-loading):before, .pn-loading:before {\\n  background-color: #c3c3c3;\\n  mask-size: auto calc(min(50%, 400px));\\n  -webkit-mask-size: auto calc(min(50%, 400px));\\n}\",{\"id\":\"p1112\"},{\"id\":\"p1110\"},{\"id\":\"p1111\"}],\"margin\":0,\"sizing_mode\":\"stretch_width\",\"align\":\"start\"}}]}}],\"defs\":[{\"type\":\"model\",\"name\":\"ReactiveHTML1\"},{\"type\":\"model\",\"name\":\"FlexBox1\",\"properties\":[{\"name\":\"align_content\",\"kind\":\"Any\",\"default\":\"flex-start\"},{\"name\":\"align_items\",\"kind\":\"Any\",\"default\":\"flex-start\"},{\"name\":\"flex_direction\",\"kind\":\"Any\",\"default\":\"row\"},{\"name\":\"flex_wrap\",\"kind\":\"Any\",\"default\":\"wrap\"},{\"name\":\"gap\",\"kind\":\"Any\",\"default\":\"\"},{\"name\":\"justify_content\",\"kind\":\"Any\",\"default\":\"flex-start\"}]},{\"type\":\"model\",\"name\":\"FloatPanel1\",\"properties\":[{\"name\":\"config\",\"kind\":\"Any\",\"default\":{\"type\":\"map\"}},{\"name\":\"contained\",\"kind\":\"Any\",\"default\":true},{\"name\":\"position\",\"kind\":\"Any\",\"default\":\"right-top\"},{\"name\":\"offsetx\",\"kind\":\"Any\",\"default\":null},{\"name\":\"offsety\",\"kind\":\"Any\",\"default\":null},{\"name\":\"theme\",\"kind\":\"Any\",\"default\":\"primary\"},{\"name\":\"status\",\"kind\":\"Any\",\"default\":\"normalized\"}]},{\"type\":\"model\",\"name\":\"GridStack1\",\"properties\":[{\"name\":\"mode\",\"kind\":\"Any\",\"default\":\"warn\"},{\"name\":\"ncols\",\"kind\":\"Any\",\"default\":null},{\"name\":\"nrows\",\"kind\":\"Any\",\"default\":null},{\"name\":\"allow_resize\",\"kind\":\"Any\",\"default\":true},{\"name\":\"allow_drag\",\"kind\":\"Any\",\"default\":true},{\"name\":\"state\",\"kind\":\"Any\",\"default\":[]}]},{\"type\":\"model\",\"name\":\"drag1\",\"properties\":[{\"name\":\"slider_width\",\"kind\":\"Any\",\"default\":5},{\"name\":\"slider_color\",\"kind\":\"Any\",\"default\":\"black\"},{\"name\":\"value\",\"kind\":\"Any\",\"default\":50}]},{\"type\":\"model\",\"name\":\"click1\",\"properties\":[{\"name\":\"terminal_output\",\"kind\":\"Any\",\"default\":\"\"},{\"name\":\"debug_name\",\"kind\":\"Any\",\"default\":\"\"},{\"name\":\"clears\",\"kind\":\"Any\",\"default\":0}]},{\"type\":\"model\",\"name\":\"FastWrapper1\",\"properties\":[{\"name\":\"object\",\"kind\":\"Any\",\"default\":null},{\"name\":\"style\",\"kind\":\"Any\",\"default\":null}]},{\"type\":\"model\",\"name\":\"NotificationAreaBase1\",\"properties\":[{\"name\":\"js_events\",\"kind\":\"Any\",\"default\":{\"type\":\"map\"}},{\"name\":\"position\",\"kind\":\"Any\",\"default\":\"bottom-right\"},{\"name\":\"_clear\",\"kind\":\"Any\",\"default\":0}]},{\"type\":\"model\",\"name\":\"NotificationArea1\",\"properties\":[{\"name\":\"js_events\",\"kind\":\"Any\",\"default\":{\"type\":\"map\"}},{\"name\":\"notifications\",\"kind\":\"Any\",\"default\":[]},{\"name\":\"position\",\"kind\":\"Any\",\"default\":\"bottom-right\"},{\"name\":\"_clear\",\"kind\":\"Any\",\"default\":0},{\"name\":\"types\",\"kind\":\"Any\",\"default\":[{\"type\":\"map\",\"entries\":[[\"type\",\"warning\"],[\"background\",\"#ffc107\"],[\"icon\",{\"type\":\"map\",\"entries\":[[\"className\",\"fas fa-exclamation-triangle\"],[\"tagName\",\"i\"],[\"color\",\"white\"]]}]]},{\"type\":\"map\",\"entries\":[[\"type\",\"info\"],[\"background\",\"#007bff\"],[\"icon\",{\"type\":\"map\",\"entries\":[[\"className\",\"fas fa-info-circle\"],[\"tagName\",\"i\"],[\"color\",\"white\"]]}]]}]}]},{\"type\":\"model\",\"name\":\"Notification\",\"properties\":[{\"name\":\"background\",\"kind\":\"Any\",\"default\":null},{\"name\":\"duration\",\"kind\":\"Any\",\"default\":3000},{\"name\":\"icon\",\"kind\":\"Any\",\"default\":null},{\"name\":\"message\",\"kind\":\"Any\",\"default\":\"\"},{\"name\":\"notification_type\",\"kind\":\"Any\",\"default\":null},{\"name\":\"_destroyed\",\"kind\":\"Any\",\"default\":false}]},{\"type\":\"model\",\"name\":\"TemplateActions1\",\"properties\":[{\"name\":\"open_modal\",\"kind\":\"Any\",\"default\":0},{\"name\":\"close_modal\",\"kind\":\"Any\",\"default\":0}]},{\"type\":\"model\",\"name\":\"BootstrapTemplateActions1\",\"properties\":[{\"name\":\"open_modal\",\"kind\":\"Any\",\"default\":0},{\"name\":\"close_modal\",\"kind\":\"Any\",\"default\":0}]},{\"type\":\"model\",\"name\":\"TemplateEditor1\",\"properties\":[{\"name\":\"layout\",\"kind\":\"Any\",\"default\":[]}]},{\"type\":\"model\",\"name\":\"MaterialTemplateActions1\",\"properties\":[{\"name\":\"open_modal\",\"kind\":\"Any\",\"default\":0},{\"name\":\"close_modal\",\"kind\":\"Any\",\"default\":0}]},{\"type\":\"model\",\"name\":\"copy_to_clipboard1\",\"properties\":[{\"name\":\"fill\",\"kind\":\"Any\",\"default\":\"none\"},{\"name\":\"value\",\"kind\":\"Any\",\"default\":null}]}]}};\n",
       "  var render_items = [{\"docid\":\"ddf150e4-1f8a-4db3-9531-0be679ceac1d\",\"roots\":{\"p1109\":\"e82a3e55-25ba-469e-8ca8-52634c7c1cd6\"},\"root_ids\":[\"p1109\"]}];\n",
       "  var docs = Object.values(docs_json)\n",
       "  if (!docs) {\n",
       "    return\n",
       "  }\n",
       "  const py_version = docs[0].version.replace('rc', '-rc.').replace('.dev', '-dev.')\n",
       "  function embed_document(root) {\n",
       "    var Bokeh = get_bokeh(root)\n",
       "    Bokeh.embed.embed_items_notebook(docs_json, render_items);\n",
       "    for (const render_item of render_items) {\n",
       "      for (const root_id of render_item.root_ids) {\n",
       "\tconst id_el = document.getElementById(root_id)\n",
       "\tif (id_el.children.length && (id_el.children[0].className === 'bk-root')) {\n",
       "\t  const root_el = id_el.children[0]\n",
       "\t  root_el.id = root_el.id + '-rendered'\n",
       "\t}\n",
       "      }\n",
       "    }\n",
       "  }\n",
       "  function get_bokeh(root) {\n",
       "    if (root.Bokeh === undefined) {\n",
       "      return null\n",
       "    } else if (root.Bokeh.version !== py_version) {\n",
       "      if (root.Bokeh.versions === undefined || !root.Bokeh.versions.has(py_version)) {\n",
       "\treturn null\n",
       "      }\n",
       "      return root.Bokeh.versions.get(py_version);\n",
       "    } else if (root.Bokeh.version === py_version) {\n",
       "      return root.Bokeh\n",
       "    }\n",
       "    return null\n",
       "  }\n",
       "  function is_loaded(root) {\n",
       "    var Bokeh = get_bokeh(root)\n",
       "    return (Bokeh != null && Bokeh.Panel !== undefined)\n",
       "  }\n",
       "  if (is_loaded(root)) {\n",
       "    embed_document(root);\n",
       "  } else {\n",
       "    var attempts = 0;\n",
       "    var timer = setInterval(function(root) {\n",
       "      if (is_loaded(root)) {\n",
       "        clearInterval(timer);\n",
       "        embed_document(root);\n",
       "      } else if (document.readyState == \"complete\") {\n",
       "        attempts++;\n",
       "        if (attempts > 200) {\n",
       "          clearInterval(timer);\n",
       "\t  var Bokeh = get_bokeh(root)\n",
       "\t  if (Bokeh == null || Bokeh.Panel == null) {\n",
       "            console.warn(\"Panel: ERROR: Unable to run Panel code because Bokeh or Panel library is missing\");\n",
       "\t  } else {\n",
       "\t    console.warn(\"Panel: WARNING: Attempting to render but not all required libraries could be resolved.\")\n",
       "\t    embed_document(root)\n",
       "\t  }\n",
       "        }\n",
       "      }\n",
       "    }, 25, root)\n",
       "  }\n",
       "})(window);</script>"
      ],
      "text/plain": [
       ":Overlay\n",
       "   .WMTS.I   :WMTS   [Longitude,Latitude]\n",
       "   .Points.I :Points   [Lng,Lat]   (City,Humidity)"
      ]
     },
     "execution_count": 4,
     "metadata": {
      "application/vnd.holoviews_exec.v0+json": {
       "id": "p1109"
      }
     },
     "output_type": "execute_result"
    }
   ],
   "source": [
    "%%capture --no-display\n",
    "\n",
    "# Configure the map plot\n",
    "humidity = city_data_df[\"Humidity\"].astype(int)\n",
    "\n",
    "# Display the map\n",
    "map_plot_1 = city_data_df.hvplot.points(\n",
    "    \"Lng\",\n",
    "    \"Lat\",\n",
    "    geo = True,\n",
    "    tiles = \"OSM\",\n",
    "    frame_width = 800,\n",
    "    frame_height = 600,\n",
    "    size = \"Humidity\",\n",
    "    color = \"City\",\n",
    "    alpha = 0.9\n",
    ")\n",
    "\n",
    "map_plot_1"
   ]
  },
  {
   "cell_type": "markdown",
   "metadata": {},
   "source": [
    "### Step 2: Narrow down the `city_data_df` DataFrame to find your ideal weather condition"
   ]
  },
  {
   "cell_type": "code",
   "execution_count": null,
   "metadata": {},
   "outputs": [],
   "source": [
    "# Narrow down cities that fit criteria and drop any results with null values\n",
    "\n",
    "\n",
    "# Drop any rows with null values\n",
    "city_data_df = city_data_df.dropna()\n",
    "\n",
    "# Display sample data\n",
    "city_data_df"
   ]
  },
  {
   "cell_type": "markdown",
   "metadata": {},
   "source": [
    "### Step 3: Create a new DataFrame called `hotel_df`."
   ]
  },
  {
   "cell_type": "code",
   "execution_count": null,
   "metadata": {},
   "outputs": [],
   "source": [
    "# Use the Pandas copy function to create DataFrame called hotel_df to store the city, country, coordinates, and humidity\n",
    "# YOUR CODE HERE\n",
    "\n",
    "# Add an empty column, \"Hotel Name,\" to the DataFrame so you can store the hotel found using the Geoapify API\n",
    "# YOUR CODE HERE\n",
    "\n",
    "# Display sample data\n",
    "# YOUR CODE HERE"
   ]
  },
  {
   "cell_type": "markdown",
   "metadata": {},
   "source": [
    "### Step 4: For each city, use the Geoapify API to find the first hotel located within 10,000 metres of your coordinates."
   ]
  },
  {
   "cell_type": "code",
   "execution_count": null,
   "metadata": {},
   "outputs": [],
   "source": [
    "# Set parameters to search for a hotel\n",
    "radius = # YOUR CODE HERE\n",
    "params = {\n",
    "    # YOUR CODE HERE\n",
    "}\n",
    "\n",
    "# Print a message to follow up the hotel search\n",
    "print(\"Starting hotel search\")\n",
    "\n",
    "# Iterate through the hotel_df DataFrame\n",
    "for index, row in hotel_df.iterrows():\n",
    "    # get latitude, longitude from the DataFrame\n",
    "    # YOUR CODE HERE\n",
    "    \n",
    "    # Add filter and bias parameters with the current city's latitude and longitude to the params dictionary\n",
    "    params[\"filter\"] = # YOUR CODE HERE\n",
    "    params[\"bias\"] = # YOUR CODE HERE\n",
    "    \n",
    "    # Set base URL\n",
    "    base_url = \"https://api.geoapify.com/v2/places\"\n",
    "\n",
    "\n",
    "    # Make and API request using the params dictionaty\n",
    "    name_address = # YOUR CODE HERE\n",
    "    \n",
    "    # Convert the API response to JSON format\n",
    "    name_address = # YOUR CODE HERE\n",
    "    \n",
    "    # Grab the first hotel from the results and store the name in the hotel_df DataFrame\n",
    "    try:\n",
    "        hotel_df.loc[index, \"Hotel Name\"] = name_address[\"features\"][0][\"properties\"][\"name\"]\n",
    "    except (KeyError, IndexError):\n",
    "        # If no hotel is found, set the hotel name as \"No hotel found\".\n",
    "        hotel_df.loc[index, \"Hotel Name\"] = \"No hotel found\"\n",
    "        \n",
    "    # Log the search results\n",
    "    print(f\"{hotel_df.loc[index, 'City']} - nearest hotel: {hotel_df.loc[index, 'Hotel Name']}\")\n",
    "\n",
    "# Display sample data\n",
    "hotel_df"
   ]
  },
  {
   "cell_type": "markdown",
   "metadata": {},
   "source": [
    "### Step 5: Add the hotel name and the country as additional information in the hover message for each city in the map."
   ]
  },
  {
   "cell_type": "code",
   "execution_count": null,
   "metadata": {},
   "outputs": [],
   "source": [
    "%%capture --no-display\n",
    "\n",
    "# Configure the map plot\n",
    "# YOUR CODE HERE\n",
    "\n",
    "# Display the map\n",
    "# YOUR CODE HERE"
   ]
  },
  {
   "cell_type": "code",
   "execution_count": null,
   "metadata": {},
   "outputs": [],
   "source": []
  }
 ],
 "metadata": {
  "kernelspec": {
   "display_name": "Python 3 (ipykernel)",
   "language": "python",
   "name": "python3"
  },
  "language_info": {
   "codemirror_mode": {
    "name": "ipython",
    "version": 3
   },
   "file_extension": ".py",
   "mimetype": "text/x-python",
   "name": "python",
   "nbconvert_exporter": "python",
   "pygments_lexer": "ipython3",
   "version": "3.10.4"
  },
  "latex_envs": {
   "LaTeX_envs_menu_present": true,
   "autoclose": false,
   "autocomplete": true,
   "bibliofile": "biblio.bib",
   "cite_by": "apalike",
   "current_citInitial": 1,
   "eqLabelWithNumbers": true,
   "eqNumInitial": 1,
   "hotkeys": {
    "equation": "Ctrl-E",
    "itemize": "Ctrl-I"
   },
   "labels_anchors": false,
   "latex_user_defs": false,
   "report_style_numbering": false,
   "user_envs_cfg": false
  }
 },
 "nbformat": 4,
 "nbformat_minor": 4
}
